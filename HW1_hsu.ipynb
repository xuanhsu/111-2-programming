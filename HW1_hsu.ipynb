{
 "cells": [
  {
   "cell_type": "code",
   "execution_count": 9,
   "id": "285bc97d",
   "metadata": {
    "scrolled": true
   },
   "outputs": [
    {
     "data": {
      "text/html": [
       "<div>\n",
       "<style scoped>\n",
       "    .dataframe tbody tr th:only-of-type {\n",
       "        vertical-align: middle;\n",
       "    }\n",
       "\n",
       "    .dataframe tbody tr th {\n",
       "        vertical-align: top;\n",
       "    }\n",
       "\n",
       "    .dataframe thead th {\n",
       "        text-align: right;\n",
       "    }\n",
       "</style>\n",
       "<table border=\"1\" class=\"dataframe\">\n",
       "  <thead>\n",
       "    <tr style=\"text-align: right;\">\n",
       "      <th></th>\n",
       "      <th>product</th>\n",
       "    </tr>\n",
       "  </thead>\n",
       "  <tbody>\n",
       "    <tr>\n",
       "      <th>0</th>\n",
       "      <td>phone</td>\n",
       "    </tr>\n",
       "    <tr>\n",
       "      <th>1</th>\n",
       "      <td>laptop</td>\n",
       "    </tr>\n",
       "    <tr>\n",
       "      <th>2</th>\n",
       "      <td>monitor</td>\n",
       "    </tr>\n",
       "    <tr>\n",
       "      <th>3</th>\n",
       "      <td>desktop</td>\n",
       "    </tr>\n",
       "    <tr>\n",
       "      <th>4</th>\n",
       "      <td>motherbord</td>\n",
       "    </tr>\n",
       "    <tr>\n",
       "      <th>5</th>\n",
       "      <td>graphics card</td>\n",
       "    </tr>\n",
       "    <tr>\n",
       "      <th>6</th>\n",
       "      <td>case</td>\n",
       "    </tr>\n",
       "    <tr>\n",
       "      <th>7</th>\n",
       "      <td>AIO cooling</td>\n",
       "    </tr>\n",
       "    <tr>\n",
       "      <th>8</th>\n",
       "      <td>PSU</td>\n",
       "    </tr>\n",
       "    <tr>\n",
       "      <th>9</th>\n",
       "      <td>routers</td>\n",
       "    </tr>\n",
       "    <tr>\n",
       "      <th>10</th>\n",
       "      <td>keyboard</td>\n",
       "    </tr>\n",
       "    <tr>\n",
       "      <th>11</th>\n",
       "      <td>mouse</td>\n",
       "    </tr>\n",
       "    <tr>\n",
       "      <th>12</th>\n",
       "      <td>clothes</td>\n",
       "    </tr>\n",
       "    <tr>\n",
       "      <th>13</th>\n",
       "      <td>adapter</td>\n",
       "    </tr>\n",
       "    <tr>\n",
       "      <th>14</th>\n",
       "      <td>sound card</td>\n",
       "    </tr>\n",
       "  </tbody>\n",
       "</table>\n",
       "</div>"
      ],
      "text/plain": [
       "          product\n",
       "0           phone\n",
       "1          laptop\n",
       "2         monitor\n",
       "3         desktop\n",
       "4      motherbord\n",
       "5   graphics card\n",
       "6            case\n",
       "7     AIO cooling\n",
       "8             PSU\n",
       "9         routers\n",
       "10       keyboard\n",
       "11          mouse\n",
       "12        clothes\n",
       "13        adapter\n",
       "14     sound card"
      ]
     },
     "execution_count": 9,
     "metadata": {},
     "output_type": "execute_result"
    }
   ],
   "source": [
    "import pandas as pd\n",
    "\n",
    "data1 = pd.read_csv(\"ASUS.csv\")\n",
    "data1"
   ]
  },
  {
   "cell_type": "code",
   "execution_count": 10,
   "id": "21f654e4",
   "metadata": {},
   "outputs": [
    {
     "data": {
      "text/html": [
       "<div>\n",
       "<style scoped>\n",
       "    .dataframe tbody tr th:only-of-type {\n",
       "        vertical-align: middle;\n",
       "    }\n",
       "\n",
       "    .dataframe tbody tr th {\n",
       "        vertical-align: top;\n",
       "    }\n",
       "\n",
       "    .dataframe thead th {\n",
       "        text-align: right;\n",
       "    }\n",
       "</style>\n",
       "<table border=\"1\" class=\"dataframe\">\n",
       "  <thead>\n",
       "    <tr style=\"text-align: right;\">\n",
       "      <th></th>\n",
       "      <th>product</th>\n",
       "    </tr>\n",
       "  </thead>\n",
       "  <tbody>\n",
       "    <tr>\n",
       "      <th>0</th>\n",
       "      <td>laptop</td>\n",
       "    </tr>\n",
       "    <tr>\n",
       "      <th>1</th>\n",
       "      <td>monitor</td>\n",
       "    </tr>\n",
       "    <tr>\n",
       "      <th>2</th>\n",
       "      <td>desktop</td>\n",
       "    </tr>\n",
       "    <tr>\n",
       "      <th>3</th>\n",
       "      <td>motherbord</td>\n",
       "    </tr>\n",
       "    <tr>\n",
       "      <th>4</th>\n",
       "      <td>graphics card</td>\n",
       "    </tr>\n",
       "    <tr>\n",
       "      <th>5</th>\n",
       "      <td>case</td>\n",
       "    </tr>\n",
       "    <tr>\n",
       "      <th>6</th>\n",
       "      <td>AIO cooling</td>\n",
       "    </tr>\n",
       "    <tr>\n",
       "      <th>7</th>\n",
       "      <td>PSU</td>\n",
       "    </tr>\n",
       "    <tr>\n",
       "      <th>8</th>\n",
       "      <td>routers</td>\n",
       "    </tr>\n",
       "    <tr>\n",
       "      <th>9</th>\n",
       "      <td>keyboard</td>\n",
       "    </tr>\n",
       "    <tr>\n",
       "      <th>10</th>\n",
       "      <td>mouse</td>\n",
       "    </tr>\n",
       "    <tr>\n",
       "      <th>11</th>\n",
       "      <td>adapter</td>\n",
       "    </tr>\n",
       "    <tr>\n",
       "      <th>12</th>\n",
       "      <td>storage</td>\n",
       "    </tr>\n",
       "    <tr>\n",
       "      <th>13</th>\n",
       "      <td>cooling bracket</td>\n",
       "    </tr>\n",
       "    <tr>\n",
       "      <th>14</th>\n",
       "      <td>controller</td>\n",
       "    </tr>\n",
       "  </tbody>\n",
       "</table>\n",
       "</div>"
      ],
      "text/plain": [
       "            product\n",
       "0            laptop\n",
       "1           monitor\n",
       "2           desktop\n",
       "3        motherbord\n",
       "4     graphics card\n",
       "5              case\n",
       "6       AIO cooling\n",
       "7               PSU\n",
       "8           routers\n",
       "9          keyboard\n",
       "10            mouse\n",
       "11          adapter\n",
       "12          storage\n",
       "13  cooling bracket\n",
       "14       controller"
      ]
     },
     "execution_count": 10,
     "metadata": {},
     "output_type": "execute_result"
    }
   ],
   "source": [
    "data2 = pd.read_csv(\"MSI.csv\")\n",
    "data2"
   ]
  },
  {
   "cell_type": "code",
   "execution_count": 11,
   "id": "edecfed9",
   "metadata": {},
   "outputs": [
    {
     "data": {
      "text/plain": [
       "{'AIO cooling',\n",
       " 'PSU',\n",
       " 'adapter',\n",
       " 'case',\n",
       " 'clothes',\n",
       " 'desktop',\n",
       " 'graphics card',\n",
       " 'keyboard',\n",
       " 'laptop',\n",
       " 'monitor',\n",
       " 'motherbord',\n",
       " 'mouse',\n",
       " 'phone',\n",
       " 'routers',\n",
       " 'sound card'}"
      ]
     },
     "execution_count": 11,
     "metadata": {},
     "output_type": "execute_result"
    }
   ],
   "source": [
    "set_data1 = set(data1[\"product\"])\n",
    "set_data1"
   ]
  },
  {
   "cell_type": "code",
   "execution_count": 12,
   "id": "10534074",
   "metadata": {
    "scrolled": true
   },
   "outputs": [
    {
     "data": {
      "text/plain": [
       "{'AIO cooling',\n",
       " 'PSU',\n",
       " 'adapter',\n",
       " 'case',\n",
       " 'controller',\n",
       " 'cooling bracket',\n",
       " 'desktop',\n",
       " 'graphics card',\n",
       " 'keyboard',\n",
       " 'laptop',\n",
       " 'monitor',\n",
       " 'motherbord',\n",
       " 'mouse',\n",
       " 'routers',\n",
       " 'storage'}"
      ]
     },
     "execution_count": 12,
     "metadata": {},
     "output_type": "execute_result"
    }
   ],
   "source": [
    "set_data2 = set(data2[\"product\"])\n",
    "set_data2"
   ]
  },
  {
   "cell_type": "code",
   "execution_count": 13,
   "id": "4403e6c6",
   "metadata": {},
   "outputs": [
    {
     "data": {
      "text/plain": [
       "{'AIO cooling',\n",
       " 'PSU',\n",
       " 'adapter',\n",
       " 'case',\n",
       " 'desktop',\n",
       " 'graphics card',\n",
       " 'keyboard',\n",
       " 'laptop',\n",
       " 'monitor',\n",
       " 'motherbord',\n",
       " 'mouse',\n",
       " 'routers'}"
      ]
     },
     "execution_count": 13,
     "metadata": {},
     "output_type": "execute_result"
    }
   ],
   "source": [
    "#交集\n",
    "(set_data1 & set_data2)"
   ]
  },
  {
   "cell_type": "code",
   "execution_count": 14,
   "id": "e18f1e89",
   "metadata": {},
   "outputs": [
    {
     "data": {
      "text/plain": [
       "{'AIO cooling',\n",
       " 'PSU',\n",
       " 'adapter',\n",
       " 'case',\n",
       " 'clothes',\n",
       " 'controller',\n",
       " 'cooling bracket',\n",
       " 'desktop',\n",
       " 'graphics card',\n",
       " 'keyboard',\n",
       " 'laptop',\n",
       " 'monitor',\n",
       " 'motherbord',\n",
       " 'mouse',\n",
       " 'phone',\n",
       " 'routers',\n",
       " 'sound card',\n",
       " 'storage'}"
      ]
     },
     "execution_count": 14,
     "metadata": {},
     "output_type": "execute_result"
    }
   ],
   "source": [
    "#聯集\n",
    "(set_data1 | set_data2)"
   ]
  },
  {
   "cell_type": "code",
   "execution_count": 15,
   "id": "65beb610",
   "metadata": {},
   "outputs": [
    {
     "data": {
      "text/plain": [
       "{'clothes', 'phone', 'sound card'}"
      ]
     },
     "execution_count": 15,
     "metadata": {},
     "output_type": "execute_result"
    }
   ],
   "source": [
    "#差集\n",
    "(set_data1 - (set_data1 & set_data2))"
   ]
  },
  {
   "cell_type": "code",
   "execution_count": 16,
   "id": "6b30a846",
   "metadata": {},
   "outputs": [
    {
     "data": {
      "text/plain": [
       "{'AIO cooling',\n",
       " 'PSU',\n",
       " 'adapter',\n",
       " 'case',\n",
       " 'clothes',\n",
       " 'controller',\n",
       " 'cooling bracket',\n",
       " 'desktop',\n",
       " 'graphics card',\n",
       " 'keyboard',\n",
       " 'laptop',\n",
       " 'monitor',\n",
       " 'motherbord',\n",
       " 'mouse',\n",
       " 'phone',\n",
       " 'routers',\n",
       " 'sound card',\n",
       " 'storage'}"
      ]
     },
     "execution_count": 16,
     "metadata": {},
     "output_type": "execute_result"
    }
   ],
   "source": [
    "(set_data1 | set_data2 - (set_data1 & set_data2))"
   ]
  },
  {
   "cell_type": "code",
   "execution_count": 17,
   "id": "65f50390",
   "metadata": {},
   "outputs": [
    {
     "data": {
      "text/plain": [
       "{'controller', 'cooling bracket', 'storage'}"
      ]
     },
     "execution_count": 17,
     "metadata": {},
     "output_type": "execute_result"
    }
   ],
   "source": [
    "(set_data2 - (set_data1 & set_data2))"
   ]
  },
  {
   "cell_type": "code",
   "execution_count": 19,
   "id": "1a420c3f",
   "metadata": {
    "scrolled": true
   },
   "outputs": [
    {
     "ename": "TypeError",
     "evalue": "unsupported operand type(s) for +: 'set' and 'set'",
     "output_type": "error",
     "traceback": [
      "\u001b[1;31m---------------------------------------------------------------------------\u001b[0m",
      "\u001b[1;31mTypeError\u001b[0m                                 Traceback (most recent call last)",
      "\u001b[1;32m~\\AppData\\Local\\Temp\\ipykernel_10692\\2277828429.py\u001b[0m in \u001b[0;36m<module>\u001b[1;34m\u001b[0m\n\u001b[1;32m----> 1\u001b[1;33m \u001b[1;33m(\u001b[0m\u001b[1;33m(\u001b[0m\u001b[0mset_data1\u001b[0m \u001b[1;33m-\u001b[0m \u001b[1;33m(\u001b[0m\u001b[0mset_data1\u001b[0m \u001b[1;33m&\u001b[0m \u001b[0mset_data2\u001b[0m\u001b[1;33m)\u001b[0m\u001b[1;33m)\u001b[0m \u001b[1;33m+\u001b[0m \u001b[1;33m(\u001b[0m\u001b[0mset_data2\u001b[0m \u001b[1;33m-\u001b[0m \u001b[1;33m(\u001b[0m\u001b[0mset_data1\u001b[0m \u001b[1;33m&\u001b[0m \u001b[0mset_data2\u001b[0m\u001b[1;33m)\u001b[0m\u001b[1;33m)\u001b[0m\u001b[1;33m)\u001b[0m\u001b[1;33m\u001b[0m\u001b[1;33m\u001b[0m\u001b[0m\n\u001b[0m",
      "\u001b[1;31mTypeError\u001b[0m: unsupported operand type(s) for +: 'set' and 'set'"
     ]
    }
   ],
   "source": [
    "((set_data1 - (set_data1 & set_data2)) + (set_data2 - (set_data1 & set_data2)))"
   ]
  },
  {
   "cell_type": "code",
   "execution_count": null,
   "id": "2b01beea",
   "metadata": {},
   "outputs": [],
   "source": []
  }
 ],
 "metadata": {
  "kernelspec": {
   "display_name": "Python 3 (ipykernel)",
   "language": "python",
   "name": "python3"
  },
  "language_info": {
   "codemirror_mode": {
    "name": "ipython",
    "version": 3
   },
   "file_extension": ".py",
   "mimetype": "text/x-python",
   "name": "python",
   "nbconvert_exporter": "python",
   "pygments_lexer": "ipython3",
   "version": "3.9.13"
  }
 },
 "nbformat": 4,
 "nbformat_minor": 5
}
