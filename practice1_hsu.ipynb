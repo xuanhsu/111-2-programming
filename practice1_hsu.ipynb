{
 "cells": [
  {
   "cell_type": "code",
   "execution_count": 9,
   "id": "3c3dd055",
   "metadata": {
    "scrolled": true
   },
   "outputs": [
    {
     "data": {
      "text/html": [
       "<div>\n",
       "<style scoped>\n",
       "    .dataframe tbody tr th:only-of-type {\n",
       "        vertical-align: middle;\n",
       "    }\n",
       "\n",
       "    .dataframe tbody tr th {\n",
       "        vertical-align: top;\n",
       "    }\n",
       "\n",
       "    .dataframe thead th {\n",
       "        text-align: right;\n",
       "    }\n",
       "</style>\n",
       "<table border=\"1\" class=\"dataframe\">\n",
       "  <thead>\n",
       "    <tr style=\"text-align: right;\">\n",
       "      <th></th>\n",
       "      <th>product</th>\n",
       "    </tr>\n",
       "  </thead>\n",
       "  <tbody>\n",
       "    <tr>\n",
       "      <th>0</th>\n",
       "      <td>phone</td>\n",
       "    </tr>\n",
       "    <tr>\n",
       "      <th>1</th>\n",
       "      <td>laptop</td>\n",
       "    </tr>\n",
       "    <tr>\n",
       "      <th>2</th>\n",
       "      <td>monitor</td>\n",
       "    </tr>\n",
       "    <tr>\n",
       "      <th>3</th>\n",
       "      <td>desktop</td>\n",
       "    </tr>\n",
       "    <tr>\n",
       "      <th>4</th>\n",
       "      <td>motherbord</td>\n",
       "    </tr>\n",
       "    <tr>\n",
       "      <th>5</th>\n",
       "      <td>graphics card</td>\n",
       "    </tr>\n",
       "    <tr>\n",
       "      <th>6</th>\n",
       "      <td>case</td>\n",
       "    </tr>\n",
       "    <tr>\n",
       "      <th>7</th>\n",
       "      <td>AIO cooling</td>\n",
       "    </tr>\n",
       "    <tr>\n",
       "      <th>8</th>\n",
       "      <td>PSU</td>\n",
       "    </tr>\n",
       "    <tr>\n",
       "      <th>9</th>\n",
       "      <td>routers</td>\n",
       "    </tr>\n",
       "    <tr>\n",
       "      <th>10</th>\n",
       "      <td>keyboard</td>\n",
       "    </tr>\n",
       "    <tr>\n",
       "      <th>11</th>\n",
       "      <td>mouse</td>\n",
       "    </tr>\n",
       "    <tr>\n",
       "      <th>12</th>\n",
       "      <td>clothes</td>\n",
       "    </tr>\n",
       "    <tr>\n",
       "      <th>13</th>\n",
       "      <td>adapter</td>\n",
       "    </tr>\n",
       "    <tr>\n",
       "      <th>14</th>\n",
       "      <td>sound card</td>\n",
       "    </tr>\n",
       "  </tbody>\n",
       "</table>\n",
       "</div>"
      ],
      "text/plain": [
       "          product\n",
       "0           phone\n",
       "1          laptop\n",
       "2         monitor\n",
       "3         desktop\n",
       "4      motherbord\n",
       "5   graphics card\n",
       "6            case\n",
       "7     AIO cooling\n",
       "8             PSU\n",
       "9         routers\n",
       "10       keyboard\n",
       "11          mouse\n",
       "12        clothes\n",
       "13        adapter\n",
       "14     sound card"
      ]
     },
     "execution_count": 9,
     "metadata": {},
     "output_type": "execute_result"
    }
   ],
   "source": [
    "import pandas as pd\n",
    "\n",
    "data1 = pd.read_csv(\"ASUS.csv\")\n",
    "data1"
   ]
  },
  {
   "cell_type": "code",
   "execution_count": 10,
   "id": "540c2a8f",
   "metadata": {},
   "outputs": [
    {
     "data": {
      "text/html": [
       "<div>\n",
       "<style scoped>\n",
       "    .dataframe tbody tr th:only-of-type {\n",
       "        vertical-align: middle;\n",
       "    }\n",
       "\n",
       "    .dataframe tbody tr th {\n",
       "        vertical-align: top;\n",
       "    }\n",
       "\n",
       "    .dataframe thead th {\n",
       "        text-align: right;\n",
       "    }\n",
       "</style>\n",
       "<table border=\"1\" class=\"dataframe\">\n",
       "  <thead>\n",
       "    <tr style=\"text-align: right;\">\n",
       "      <th></th>\n",
       "      <th>product</th>\n",
       "    </tr>\n",
       "  </thead>\n",
       "  <tbody>\n",
       "    <tr>\n",
       "      <th>0</th>\n",
       "      <td>laptop</td>\n",
       "    </tr>\n",
       "    <tr>\n",
       "      <th>1</th>\n",
       "      <td>monitor</td>\n",
       "    </tr>\n",
       "    <tr>\n",
       "      <th>2</th>\n",
       "      <td>desktop</td>\n",
       "    </tr>\n",
       "    <tr>\n",
       "      <th>3</th>\n",
       "      <td>motherbord</td>\n",
       "    </tr>\n",
       "    <tr>\n",
       "      <th>4</th>\n",
       "      <td>graphics card</td>\n",
       "    </tr>\n",
       "    <tr>\n",
       "      <th>5</th>\n",
       "      <td>case</td>\n",
       "    </tr>\n",
       "    <tr>\n",
       "      <th>6</th>\n",
       "      <td>AIO cooling</td>\n",
       "    </tr>\n",
       "    <tr>\n",
       "      <th>7</th>\n",
       "      <td>PSU</td>\n",
       "    </tr>\n",
       "    <tr>\n",
       "      <th>8</th>\n",
       "      <td>routers</td>\n",
       "    </tr>\n",
       "    <tr>\n",
       "      <th>9</th>\n",
       "      <td>keyboard</td>\n",
       "    </tr>\n",
       "    <tr>\n",
       "      <th>10</th>\n",
       "      <td>mouse</td>\n",
       "    </tr>\n",
       "    <tr>\n",
       "      <th>11</th>\n",
       "      <td>adapter</td>\n",
       "    </tr>\n",
       "    <tr>\n",
       "      <th>12</th>\n",
       "      <td>storage</td>\n",
       "    </tr>\n",
       "    <tr>\n",
       "      <th>13</th>\n",
       "      <td>cooling bracket</td>\n",
       "    </tr>\n",
       "    <tr>\n",
       "      <th>14</th>\n",
       "      <td>controller</td>\n",
       "    </tr>\n",
       "  </tbody>\n",
       "</table>\n",
       "</div>"
      ],
      "text/plain": [
       "            product\n",
       "0            laptop\n",
       "1           monitor\n",
       "2           desktop\n",
       "3        motherbord\n",
       "4     graphics card\n",
       "5              case\n",
       "6       AIO cooling\n",
       "7               PSU\n",
       "8           routers\n",
       "9          keyboard\n",
       "10            mouse\n",
       "11          adapter\n",
       "12          storage\n",
       "13  cooling bracket\n",
       "14       controller"
      ]
     },
     "execution_count": 10,
     "metadata": {},
     "output_type": "execute_result"
    }
   ],
   "source": [
    "data2 = pd.read_csv(\"MSI.csv\")\n",
    "data2"
   ]
  },
  {
   "cell_type": "code",
   "execution_count": 11,
   "id": "68383bbb",
   "metadata": {},
   "outputs": [
    {
     "data": {
      "text/plain": [
       "{'AIO cooling',\n",
       " 'PSU',\n",
       " 'adapter',\n",
       " 'case',\n",
       " 'clothes',\n",
       " 'desktop',\n",
       " 'graphics card',\n",
       " 'keyboard',\n",
       " 'laptop',\n",
       " 'monitor',\n",
       " 'motherbord',\n",
       " 'mouse',\n",
       " 'phone',\n",
       " 'routers',\n",
       " 'sound card'}"
      ]
     },
     "execution_count": 11,
     "metadata": {},
     "output_type": "execute_result"
    }
   ],
   "source": [
    "set_data1 = set(data1[\"product\"])\n",
    "set_data1"
   ]
  },
  {
   "cell_type": "code",
   "execution_count": 12,
   "id": "2ad38f19",
   "metadata": {
    "scrolled": true
   },
   "outputs": [
    {
     "data": {
      "text/plain": [
       "{'AIO cooling',\n",
       " 'PSU',\n",
       " 'adapter',\n",
       " 'case',\n",
       " 'controller',\n",
       " 'cooling bracket',\n",
       " 'desktop',\n",
       " 'graphics card',\n",
       " 'keyboard',\n",
       " 'laptop',\n",
       " 'monitor',\n",
       " 'motherbord',\n",
       " 'mouse',\n",
       " 'routers',\n",
       " 'storage'}"
      ]
     },
     "execution_count": 12,
     "metadata": {},
     "output_type": "execute_result"
    }
   ],
   "source": [
    "set_data2 = set(data2[\"product\"])\n",
    "set_data2"
   ]
  },
  {
   "cell_type": "code",
   "execution_count": 13,
   "id": "39658c64",
   "metadata": {},
   "outputs": [
    {
     "data": {
      "text/plain": [
       "{'AIO cooling',\n",
       " 'PSU',\n",
       " 'adapter',\n",
       " 'case',\n",
       " 'desktop',\n",
       " 'graphics card',\n",
       " 'keyboard',\n",
       " 'laptop',\n",
       " 'monitor',\n",
       " 'motherbord',\n",
       " 'mouse',\n",
       " 'routers'}"
      ]
     },
     "execution_count": 13,
     "metadata": {},
     "output_type": "execute_result"
    }
   ],
   "source": [
    "#交集\n",
    "(set_data1 & set_data2)"
   ]
  },
  {
   "cell_type": "code",
   "execution_count": 14,
   "id": "3056e672",
   "metadata": {},
   "outputs": [
    {
     "data": {
      "text/plain": [
       "{'AIO cooling',\n",
       " 'PSU',\n",
       " 'adapter',\n",
       " 'case',\n",
       " 'clothes',\n",
       " 'controller',\n",
       " 'cooling bracket',\n",
       " 'desktop',\n",
       " 'graphics card',\n",
       " 'keyboard',\n",
       " 'laptop',\n",
       " 'monitor',\n",
       " 'motherbord',\n",
       " 'mouse',\n",
       " 'phone',\n",
       " 'routers',\n",
       " 'sound card',\n",
       " 'storage'}"
      ]
     },
     "execution_count": 14,
     "metadata": {},
     "output_type": "execute_result"
    }
   ],
   "source": [
    "#聯集\n",
    "(set_data1 | set_data2)"
   ]
  },
  {
   "cell_type": "code",
   "execution_count": 15,
   "id": "7b350215",
   "metadata": {},
   "outputs": [
    {
     "data": {
      "text/plain": [
       "{'clothes', 'phone', 'sound card'}"
      ]
     },
     "execution_count": 15,
     "metadata": {},
     "output_type": "execute_result"
    }
   ],
   "source": [
    "#差集1\n",
    "(set_data1 - (set_data1 & set_data2))"
   ]
  },
  {
   "cell_type": "code",
   "execution_count": 16,
   "id": "513fd557",
   "metadata": {},
   "outputs": [
    {
     "data": {
      "text/plain": [
       "{'AIO cooling',\n",
       " 'PSU',\n",
       " 'adapter',\n",
       " 'case',\n",
       " 'clothes',\n",
       " 'controller',\n",
       " 'cooling bracket',\n",
       " 'desktop',\n",
       " 'graphics card',\n",
       " 'keyboard',\n",
       " 'laptop',\n",
       " 'monitor',\n",
       " 'motherbord',\n",
       " 'mouse',\n",
       " 'phone',\n",
       " 'routers',\n",
       " 'sound card',\n",
       " 'storage'}"
      ]
     },
     "execution_count": 16,
     "metadata": {},
     "output_type": "execute_result"
    }
   ],
   "source": [
    "(set_data1 | set_data2 - (set_data1 & set_data2))"
   ]
  },
  {
   "cell_type": "code",
   "execution_count": 17,
   "id": "1fe61bc3",
   "metadata": {},
   "outputs": [
    {
     "data": {
      "text/plain": [
       "{'controller', 'cooling bracket', 'storage'}"
      ]
     },
     "execution_count": 17,
     "metadata": {},
     "output_type": "execute_result"
    }
   ],
   "source": [
    "#差集2\n",
    "(set_data2 - (set_data1 & set_data2))"
   ]
  },
  {
   "cell_type": "code",
   "execution_count": 20,
   "id": "04fe58d8",
   "metadata": {
    "scrolled": true
   },
   "outputs": [
    {
     "data": {
      "text/plain": [
       "{'clothes', 'controller', 'cooling bracket', 'phone', 'sound card', 'storage'}"
      ]
     },
     "execution_count": 20,
     "metadata": {},
     "output_type": "execute_result"
    }
   ],
   "source": [
    "#差集相加\n",
    "((set_data1 - (set_data1 & set_data2)) | (set_data2 - (set_data1 & set_data2)))"
   ]
  },
  {
   "cell_type": "code",
   "execution_count": null,
   "id": "d3027785",
   "metadata": {},
   "outputs": [],
   "source": []
  }
 ],
 "metadata": {
  "kernelspec": {
   "display_name": "Python 3 (ipykernel)",
   "language": "python",
   "name": "python3"
  },
  "language_info": {
   "codemirror_mode": {
    "name": "ipython",
    "version": 3
   },
   "file_extension": ".py",
   "mimetype": "text/x-python",
   "name": "python",
   "nbconvert_exporter": "python",
   "pygments_lexer": "ipython3",
   "version": "3.9.13"
  }
 },
 "nbformat": 4,
 "nbformat_minor": 5
}
