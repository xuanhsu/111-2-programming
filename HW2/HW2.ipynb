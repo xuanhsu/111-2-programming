{
 "cells": [
  {
   "cell_type": "code",
   "execution_count": 19,
   "id": "230d4176",
   "metadata": {
    "scrolled": true
   },
   "outputs": [
    {
     "data": {
      "text/html": [
       "<div>\n",
       "<style scoped>\n",
       "    .dataframe tbody tr th:only-of-type {\n",
       "        vertical-align: middle;\n",
       "    }\n",
       "\n",
       "    .dataframe tbody tr th {\n",
       "        vertical-align: top;\n",
       "    }\n",
       "\n",
       "    .dataframe thead th {\n",
       "        text-align: right;\n",
       "    }\n",
       "</style>\n",
       "<table border=\"1\" class=\"dataframe\">\n",
       "  <thead>\n",
       "    <tr style=\"text-align: right;\">\n",
       "      <th></th>\n",
       "      <th>Model</th>\n",
       "      <th>Cores</th>\n",
       "      <th>Threads</th>\n",
       "      <th>Clock rate_base</th>\n",
       "      <th>Clock rate_max</th>\n",
       "      <th>Clock rate_turbo</th>\n",
       "      <th>Clock rate_turbo boost</th>\n",
       "      <th>IGPU</th>\n",
       "      <th>IGPU_Clock</th>\n",
       "      <th>IGPU_EUs</th>\n",
       "      <th>Smart cache_MB</th>\n",
       "      <th>TDP_Watts</th>\n",
       "      <th>Price</th>\n",
       "      <th>Socket</th>\n",
       "      <th>Launch</th>\n",
       "    </tr>\n",
       "    <tr>\n",
       "      <th>Processor</th>\n",
       "      <th></th>\n",
       "      <th></th>\n",
       "      <th></th>\n",
       "      <th></th>\n",
       "      <th></th>\n",
       "      <th></th>\n",
       "      <th></th>\n",
       "      <th></th>\n",
       "      <th></th>\n",
       "      <th></th>\n",
       "      <th></th>\n",
       "      <th></th>\n",
       "      <th></th>\n",
       "      <th></th>\n",
       "      <th></th>\n",
       "    </tr>\n",
       "  </thead>\n",
       "  <tbody>\n",
       "    <tr>\n",
       "      <th>Core i9</th>\n",
       "      <td>11900K</td>\n",
       "      <td>8</td>\n",
       "      <td>16</td>\n",
       "      <td>3.5</td>\n",
       "      <td>4.8</td>\n",
       "      <td>5.1</td>\n",
       "      <td>5.2</td>\n",
       "      <td>UHD 750</td>\n",
       "      <td>1.30</td>\n",
       "      <td>32.0</td>\n",
       "      <td>16</td>\n",
       "      <td>125</td>\n",
       "      <td>$539</td>\n",
       "      <td>LGA 1200</td>\n",
       "      <td>Q1 2021</td>\n",
       "    </tr>\n",
       "    <tr>\n",
       "      <th>Core i9</th>\n",
       "      <td>11900KF</td>\n",
       "      <td>8</td>\n",
       "      <td>16</td>\n",
       "      <td>3.5</td>\n",
       "      <td>4.8</td>\n",
       "      <td>5.1</td>\n",
       "      <td>5.2</td>\n",
       "      <td>NaN</td>\n",
       "      <td>NaN</td>\n",
       "      <td>NaN</td>\n",
       "      <td>16</td>\n",
       "      <td>125</td>\n",
       "      <td>$513</td>\n",
       "      <td>LGA 1200</td>\n",
       "      <td>Q1 2021</td>\n",
       "    </tr>\n",
       "    <tr>\n",
       "      <th>Core i9</th>\n",
       "      <td>11900</td>\n",
       "      <td>8</td>\n",
       "      <td>16</td>\n",
       "      <td>2.5</td>\n",
       "      <td>4.7</td>\n",
       "      <td>5.0</td>\n",
       "      <td>5.1</td>\n",
       "      <td>UHD 750</td>\n",
       "      <td>1.30</td>\n",
       "      <td>32.0</td>\n",
       "      <td>16</td>\n",
       "      <td>65</td>\n",
       "      <td>$439</td>\n",
       "      <td>LGA 1200</td>\n",
       "      <td>Q1 2021</td>\n",
       "    </tr>\n",
       "    <tr>\n",
       "      <th>Core i9</th>\n",
       "      <td>11900F</td>\n",
       "      <td>8</td>\n",
       "      <td>16</td>\n",
       "      <td>2.5</td>\n",
       "      <td>4.7</td>\n",
       "      <td>5.0</td>\n",
       "      <td>5.1</td>\n",
       "      <td>NaN</td>\n",
       "      <td>NaN</td>\n",
       "      <td>NaN</td>\n",
       "      <td>16</td>\n",
       "      <td>65</td>\n",
       "      <td>$422</td>\n",
       "      <td>LGA 1200</td>\n",
       "      <td>Q1 2021</td>\n",
       "    </tr>\n",
       "    <tr>\n",
       "      <th>Core i9</th>\n",
       "      <td>11900T</td>\n",
       "      <td>8</td>\n",
       "      <td>16</td>\n",
       "      <td>1.5</td>\n",
       "      <td>3.7</td>\n",
       "      <td>4.8</td>\n",
       "      <td>4.9</td>\n",
       "      <td>UHD 750</td>\n",
       "      <td>1.30</td>\n",
       "      <td>32.0</td>\n",
       "      <td>16</td>\n",
       "      <td>35</td>\n",
       "      <td>$439</td>\n",
       "      <td>LGA 1200</td>\n",
       "      <td>Q1 2021</td>\n",
       "    </tr>\n",
       "    <tr>\n",
       "      <th>...</th>\n",
       "      <td>...</td>\n",
       "      <td>...</td>\n",
       "      <td>...</td>\n",
       "      <td>...</td>\n",
       "      <td>...</td>\n",
       "      <td>...</td>\n",
       "      <td>...</td>\n",
       "      <td>...</td>\n",
       "      <td>...</td>\n",
       "      <td>...</td>\n",
       "      <td>...</td>\n",
       "      <td>...</td>\n",
       "      <td>...</td>\n",
       "      <td>...</td>\n",
       "      <td>...</td>\n",
       "    </tr>\n",
       "    <tr>\n",
       "      <th>Core i3</th>\n",
       "      <td>1115G4</td>\n",
       "      <td>2</td>\n",
       "      <td>4</td>\n",
       "      <td>1.7</td>\n",
       "      <td>4.1</td>\n",
       "      <td>NaN</td>\n",
       "      <td>NaN</td>\n",
       "      <td>UHD</td>\n",
       "      <td>1.25</td>\n",
       "      <td>48.0</td>\n",
       "      <td>6</td>\n",
       "      <td>15</td>\n",
       "      <td>NaN</td>\n",
       "      <td>FCBGA1449</td>\n",
       "      <td>Q3 2020</td>\n",
       "    </tr>\n",
       "    <tr>\n",
       "      <th>Core i3</th>\n",
       "      <td>1110G4</td>\n",
       "      <td>2</td>\n",
       "      <td>4</td>\n",
       "      <td>1.7</td>\n",
       "      <td>3.9</td>\n",
       "      <td>NaN</td>\n",
       "      <td>NaN</td>\n",
       "      <td>UHD</td>\n",
       "      <td>1.10</td>\n",
       "      <td>48.0</td>\n",
       "      <td>6</td>\n",
       "      <td>7</td>\n",
       "      <td>NaN</td>\n",
       "      <td>FCBGA1598</td>\n",
       "      <td>Q3 2020</td>\n",
       "    </tr>\n",
       "    <tr>\n",
       "      <th>Pentium</th>\n",
       "      <td>Gold 7505</td>\n",
       "      <td>2</td>\n",
       "      <td>4</td>\n",
       "      <td>2.0</td>\n",
       "      <td>3.9</td>\n",
       "      <td>NaN</td>\n",
       "      <td>NaN</td>\n",
       "      <td>UHD</td>\n",
       "      <td>1.25</td>\n",
       "      <td>48.0</td>\n",
       "      <td>4</td>\n",
       "      <td>7</td>\n",
       "      <td>NaN</td>\n",
       "      <td>FCBGA1449</td>\n",
       "      <td>Q4 2020</td>\n",
       "    </tr>\n",
       "    <tr>\n",
       "      <th>Celeron</th>\n",
       "      <td>6600HE</td>\n",
       "      <td>2</td>\n",
       "      <td>2</td>\n",
       "      <td>2.6</td>\n",
       "      <td>NaN</td>\n",
       "      <td>NaN</td>\n",
       "      <td>NaN</td>\n",
       "      <td>UHD</td>\n",
       "      <td>1.10</td>\n",
       "      <td>16.0</td>\n",
       "      <td>8</td>\n",
       "      <td>35</td>\n",
       "      <td>NaN</td>\n",
       "      <td>FCBGA1787</td>\n",
       "      <td>Q3 2021</td>\n",
       "    </tr>\n",
       "    <tr>\n",
       "      <th>Celeron</th>\n",
       "      <td>6305</td>\n",
       "      <td>2</td>\n",
       "      <td>2</td>\n",
       "      <td>1.8</td>\n",
       "      <td>NaN</td>\n",
       "      <td>NaN</td>\n",
       "      <td>NaN</td>\n",
       "      <td>UHD</td>\n",
       "      <td>1.25</td>\n",
       "      <td>48.0</td>\n",
       "      <td>4</td>\n",
       "      <td>15</td>\n",
       "      <td>NaN</td>\n",
       "      <td>FCBGA1449</td>\n",
       "      <td>Q4 2020</td>\n",
       "    </tr>\n",
       "  </tbody>\n",
       "</table>\n",
       "<p>65 rows × 15 columns</p>\n",
       "</div>"
      ],
      "text/plain": [
       "               Model  Cores  Threads  Clock rate_base  Clock rate_max  \\\n",
       "Processor                                                               \n",
       "Core i9       11900K      8       16              3.5             4.8   \n",
       "Core i9      11900KF      8       16              3.5             4.8   \n",
       "Core i9        11900      8       16              2.5             4.7   \n",
       "Core i9       11900F      8       16              2.5             4.7   \n",
       "Core i9       11900T      8       16              1.5             3.7   \n",
       "...              ...    ...      ...              ...             ...   \n",
       "Core i3       1115G4      2        4              1.7             4.1   \n",
       "Core i3       1110G4      2        4              1.7             3.9   \n",
       "Pentium    Gold 7505      2        4              2.0             3.9   \n",
       "Celeron       6600HE      2        2              2.6             NaN   \n",
       "Celeron         6305      2        2              1.8             NaN   \n",
       "\n",
       "           Clock rate_turbo  Clock rate_turbo boost     IGPU  IGPU_Clock  \\\n",
       "Processor                                                                  \n",
       "Core i9                 5.1                     5.2  UHD 750        1.30   \n",
       "Core i9                 5.1                     5.2      NaN         NaN   \n",
       "Core i9                 5.0                     5.1  UHD 750        1.30   \n",
       "Core i9                 5.0                     5.1      NaN         NaN   \n",
       "Core i9                 4.8                     4.9  UHD 750        1.30   \n",
       "...                     ...                     ...      ...         ...   \n",
       "Core i3                 NaN                     NaN     UHD         1.25   \n",
       "Core i3                 NaN                     NaN     UHD         1.10   \n",
       "Pentium                 NaN                     NaN     UHD         1.25   \n",
       "Celeron                 NaN                     NaN     UHD         1.10   \n",
       "Celeron                 NaN                     NaN     UHD         1.25   \n",
       "\n",
       "           IGPU_EUs  Smart cache_MB  TDP_Watts  Price     Socket   Launch  \n",
       "Processor                                                                  \n",
       "Core i9        32.0              16        125  $539    LGA 1200  Q1 2021  \n",
       "Core i9         NaN              16        125  $513    LGA 1200  Q1 2021  \n",
       "Core i9        32.0              16         65  $439    LGA 1200  Q1 2021  \n",
       "Core i9         NaN              16         65  $422    LGA 1200  Q1 2021  \n",
       "Core i9        32.0              16         35  $439    LGA 1200  Q1 2021  \n",
       "...             ...             ...        ...    ...        ...      ...  \n",
       "Core i3        48.0               6         15    NaN  FCBGA1449  Q3 2020  \n",
       "Core i3        48.0               6          7    NaN  FCBGA1598  Q3 2020  \n",
       "Pentium        48.0               4          7    NaN  FCBGA1449  Q4 2020  \n",
       "Celeron        16.0               8         35    NaN  FCBGA1787  Q3 2021  \n",
       "Celeron        48.0               4         15    NaN  FCBGA1449  Q4 2020  \n",
       "\n",
       "[65 rows x 15 columns]"
      ]
     },
     "execution_count": 19,
     "metadata": {},
     "output_type": "execute_result"
    }
   ],
   "source": [
    "import pandas as pd\n",
    "\n",
    "# 讀取 CSV 檔案，指定第一欄為索引\n",
    "df = pd.read_csv('11th gen intel.csv', index_col=0)\n",
    "\n",
    "# 將資料儲存成新的 CSV 檔案，排除索引欄位\n",
    "df.to_csv('new_file.csv', index=False)\n",
    "df"
   ]
  },
  {
   "cell_type": "code",
   "execution_count": 29,
   "id": "adacc12b",
   "metadata": {},
   "outputs": [
    {
     "data": {
      "application/vnd.plotly.v1+json": {
       "config": {
        "plotlyServerURL": "https://plot.ly"
       },
       "data": [
        {
         "marker": {
          "color": "#0f4c81"
         },
         "name": "Clock rate_base",
         "type": "bar",
         "x": [
          "11900K",
          "11900KF",
          "11900",
          "11900F",
          "11900T",
          "11700K",
          "11700KF",
          "11700",
          "11700F",
          "11700T",
          "11600K",
          "11600KF",
          "11600",
          "11600T",
          "11500",
          "11500T",
          "11400",
          "11400F",
          "11400T",
          "W-11955M",
          "W-11865MRE",
          "W-11865MLE",
          "W-11855M",
          "W-11555MRE",
          "W-11555MLE",
          "W-11155MRE",
          "W-11155MLE",
          "11980HK",
          "11950H",
          "11900H",
          "11850HE",
          "11850H",
          "11800H",
          "11600H",
          "11390H",
          "11375H",
          "11370H",
          "1195G7",
          "1185GRE",
          "1185G7E",
          "1165G7",
          "1185G7",
          "1180G7",
          "1160G7 ",
          "11500H",
          "11500HE",
          "11400H",
          "11260H",
          "11320H",
          "11300H ",
          "1155G7",
          "1145G7",
          "1145G7E",
          "1135G7",
          "1130G7",
          "1140G7",
          "11100HE",
          "1125G4",
          "1120G4",
          "1115GRE",
          "1115G4",
          "1110G4",
          "Gold 7505",
          "6600HE",
          "6305"
         ],
         "y": [
          3.5,
          3.5,
          2.5,
          2.5,
          1.5,
          3.6,
          3.6,
          2.5,
          2.5,
          1.4,
          3.9,
          3.9,
          2.8,
          1.7,
          2.7,
          1.5,
          2.6,
          2.6,
          1.3,
          2.6,
          2.1,
          1.5,
          2.6,
          2.1,
          1.9,
          1.9,
          1.8,
          2.6,
          2.6,
          2.1,
          2.1,
          2.1,
          1.9,
          2.5,
          3.4,
          3,
          3,
          1.3,
          1.8,
          1.8,
          1.2,
          1.2,
          0.9,
          0.9,
          2.4,
          2.1,
          2.5,
          2.1,
          2.5,
          2.6,
          1,
          1.1,
          1.5,
          0.9,
          0.8,
          0.8,
          1.9,
          0.9,
          0.8,
          1.7,
          1.7,
          1.7,
          2,
          2.6,
          1.8
         ]
        },
        {
         "marker": {
          "color": "#3283a8"
         },
         "name": "clock speed max",
         "type": "bar",
         "x": [
          "11900K",
          "11900KF",
          "11900",
          "11900F",
          "11900T",
          "11700K",
          "11700KF",
          "11700",
          "11700F",
          "11700T",
          "11600K",
          "11600KF",
          "11600",
          "11600T",
          "11500",
          "11500T",
          "11400",
          "11400F",
          "11400T",
          "W-11955M",
          "W-11865MRE",
          "W-11865MLE",
          "W-11855M",
          "W-11555MRE",
          "W-11555MLE",
          "W-11155MRE",
          "W-11155MLE",
          "11980HK",
          "11950H",
          "11900H",
          "11850HE",
          "11850H",
          "11800H",
          "11600H",
          "11390H",
          "11375H",
          "11370H",
          "1195G7",
          "1185GRE",
          "1185G7E",
          "1165G7",
          "1185G7",
          "1180G7",
          "1160G7 ",
          "11500H",
          "11500HE",
          "11400H",
          "11260H",
          "11320H",
          "11300H ",
          "1155G7",
          "1145G7",
          "1145G7E",
          "1135G7",
          "1130G7",
          "1140G7",
          "11100HE",
          "1125G4",
          "1120G4",
          "1115GRE",
          "1115G4",
          "1110G4",
          "Gold 7505",
          "6600HE",
          "6305"
         ],
         "y": [
          1.2999999999999998,
          1.2999999999999998,
          2.2,
          2.2,
          2.2,
          0.9999999999999996,
          0.9999999999999996,
          1.9000000000000004,
          1.9000000000000004,
          2.2,
          0.6999999999999997,
          0.6999999999999997,
          1.5,
          1.8,
          1.5,
          1.9,
          1.6,
          1.6,
          1.9999999999999998,
          2.4,
          2.6,
          3,
          2.3000000000000003,
          2.4,
          2.5000000000000004,
          2.5000000000000004,
          1.3,
          2.4,
          2.4,
          2.8000000000000003,
          2.6,
          2.6999999999999997,
          2.6999999999999997,
          2.0999999999999996,
          1.6,
          2,
          1.7999999999999998,
          3.7,
          2.6000000000000005,
          2.6000000000000005,
          3.5,
          3.5999999999999996,
          3.6999999999999997,
          3.5000000000000004,
          2.1999999999999997,
          2.4,
          2,
          2.3000000000000003,
          2,
          1.8000000000000003,
          3.5,
          3.3000000000000003,
          2.5999999999999996,
          3.3000000000000003,
          3.2,
          3.4000000000000004,
          2.5000000000000004,
          2.8000000000000003,
          2.7,
          2.2,
          2.3999999999999995,
          2.2,
          1.9,
          null,
          null
         ]
        },
        {
         "marker": {
          "color": "#EA0000"
         },
         "name": "clock speed turbo",
         "type": "bar",
         "x": [
          "11900K",
          "11900KF",
          "11900",
          "11900F",
          "11900T",
          "11700K",
          "11700KF",
          "11700",
          "11700F",
          "11700T",
          "11600K",
          "11600KF",
          "11600",
          "11600T",
          "11500",
          "11500T",
          "11400",
          "11400F",
          "11400T",
          "W-11955M",
          "W-11865MRE",
          "W-11865MLE",
          "W-11855M",
          "W-11555MRE",
          "W-11555MLE",
          "W-11155MRE",
          "W-11155MLE",
          "11980HK",
          "11950H",
          "11900H",
          "11850HE",
          "11850H",
          "11800H",
          "11600H",
          "11390H",
          "11375H",
          "11370H",
          "1195G7",
          "1185GRE",
          "1185G7E",
          "1165G7",
          "1185G7",
          "1180G7",
          "1160G7 ",
          "11500H",
          "11500HE",
          "11400H",
          "11260H",
          "11320H",
          "11300H ",
          "1155G7",
          "1145G7",
          "1145G7E",
          "1135G7",
          "1130G7",
          "1140G7",
          "11100HE",
          "1125G4",
          "1120G4",
          "1115GRE",
          "1115G4",
          "1110G4",
          "Gold 7505",
          "6600HE",
          "6305"
         ],
         "y": [
          0.2999999999999998,
          0.2999999999999998,
          0.2999999999999998,
          0.2999999999999998,
          1.0999999999999996,
          0.3000000000000007,
          0.3000000000000007,
          0.39999999999999947,
          0.39999999999999947,
          0.8999999999999999,
          0.3000000000000007,
          0.3000000000000007,
          0.5,
          0.5999999999999996,
          0.39999999999999947,
          0.5,
          0.20000000000000018,
          0.20000000000000018,
          0.40000000000000036,
          null,
          null,
          null,
          null,
          null,
          null,
          null,
          null,
          null,
          null,
          null,
          null,
          null,
          null,
          null,
          null,
          null,
          null,
          null,
          null,
          null,
          null,
          null,
          null,
          null,
          null,
          null,
          null,
          null,
          null,
          null,
          null,
          null,
          null,
          null,
          null,
          null,
          null,
          null,
          null,
          null,
          null,
          null,
          null,
          null,
          null
         ]
        },
        {
         "marker": {
          "color": "#6F00D2"
         },
         "name": "clock speed turbo boost",
         "type": "bar",
         "x": [
          "11900K",
          "11900KF",
          "11900",
          "11900F",
          "11900T",
          "11700K",
          "11700KF",
          "11700",
          "11700F",
          "11700T",
          "11600K",
          "11600KF",
          "11600",
          "11600T",
          "11500",
          "11500T",
          "11400",
          "11400F",
          "11400T",
          "W-11955M",
          "W-11865MRE",
          "W-11865MLE",
          "W-11855M",
          "W-11555MRE",
          "W-11555MLE",
          "W-11155MRE",
          "W-11155MLE",
          "11980HK",
          "11950H",
          "11900H",
          "11850HE",
          "11850H",
          "11800H",
          "11600H",
          "11390H",
          "11375H",
          "11370H",
          "1195G7",
          "1185GRE",
          "1185G7E",
          "1165G7",
          "1185G7",
          "1180G7",
          "1160G7 ",
          "11500H",
          "11500HE",
          "11400H",
          "11260H",
          "11320H",
          "11300H ",
          "1155G7",
          "1145G7",
          "1145G7E",
          "1135G7",
          "1130G7",
          "1140G7",
          "11100HE",
          "1125G4",
          "1120G4",
          "1115GRE",
          "1115G4",
          "1110G4",
          "Gold 7505",
          "6600HE",
          "6305"
         ],
         "y": [
          0.10000000000000053,
          0.10000000000000053,
          0.09999999999999964,
          0.09999999999999964,
          0.10000000000000053,
          0.09999999999999964,
          0.09999999999999964,
          0.10000000000000053,
          0.10000000000000053,
          0.09999999999999964,
          null,
          null,
          null,
          null,
          null,
          null,
          null,
          null,
          null,
          null,
          null,
          null,
          null,
          null,
          null,
          null,
          null,
          null,
          null,
          null,
          null,
          null,
          null,
          null,
          null,
          null,
          null,
          null,
          null,
          null,
          null,
          null,
          null,
          null,
          null,
          null,
          null,
          null,
          null,
          null,
          null,
          null,
          null,
          null,
          null,
          null,
          null,
          null,
          null,
          null,
          null,
          null,
          null,
          null,
          null
         ]
        }
       ],
       "layout": {
        "barmode": "stack",
        "template": {
         "data": {
          "bar": [
           {
            "error_x": {
             "color": "#2a3f5f"
            },
            "error_y": {
             "color": "#2a3f5f"
            },
            "marker": {
             "line": {
              "color": "#E5ECF6",
              "width": 0.5
             },
             "pattern": {
              "fillmode": "overlay",
              "size": 10,
              "solidity": 0.2
             }
            },
            "type": "bar"
           }
          ],
          "barpolar": [
           {
            "marker": {
             "line": {
              "color": "#E5ECF6",
              "width": 0.5
             },
             "pattern": {
              "fillmode": "overlay",
              "size": 10,
              "solidity": 0.2
             }
            },
            "type": "barpolar"
           }
          ],
          "carpet": [
           {
            "aaxis": {
             "endlinecolor": "#2a3f5f",
             "gridcolor": "white",
             "linecolor": "white",
             "minorgridcolor": "white",
             "startlinecolor": "#2a3f5f"
            },
            "baxis": {
             "endlinecolor": "#2a3f5f",
             "gridcolor": "white",
             "linecolor": "white",
             "minorgridcolor": "white",
             "startlinecolor": "#2a3f5f"
            },
            "type": "carpet"
           }
          ],
          "choropleth": [
           {
            "colorbar": {
             "outlinewidth": 0,
             "ticks": ""
            },
            "type": "choropleth"
           }
          ],
          "contour": [
           {
            "colorbar": {
             "outlinewidth": 0,
             "ticks": ""
            },
            "colorscale": [
             [
              0,
              "#0d0887"
             ],
             [
              0.1111111111111111,
              "#46039f"
             ],
             [
              0.2222222222222222,
              "#7201a8"
             ],
             [
              0.3333333333333333,
              "#9c179e"
             ],
             [
              0.4444444444444444,
              "#bd3786"
             ],
             [
              0.5555555555555556,
              "#d8576b"
             ],
             [
              0.6666666666666666,
              "#ed7953"
             ],
             [
              0.7777777777777778,
              "#fb9f3a"
             ],
             [
              0.8888888888888888,
              "#fdca26"
             ],
             [
              1,
              "#f0f921"
             ]
            ],
            "type": "contour"
           }
          ],
          "contourcarpet": [
           {
            "colorbar": {
             "outlinewidth": 0,
             "ticks": ""
            },
            "type": "contourcarpet"
           }
          ],
          "heatmap": [
           {
            "colorbar": {
             "outlinewidth": 0,
             "ticks": ""
            },
            "colorscale": [
             [
              0,
              "#0d0887"
             ],
             [
              0.1111111111111111,
              "#46039f"
             ],
             [
              0.2222222222222222,
              "#7201a8"
             ],
             [
              0.3333333333333333,
              "#9c179e"
             ],
             [
              0.4444444444444444,
              "#bd3786"
             ],
             [
              0.5555555555555556,
              "#d8576b"
             ],
             [
              0.6666666666666666,
              "#ed7953"
             ],
             [
              0.7777777777777778,
              "#fb9f3a"
             ],
             [
              0.8888888888888888,
              "#fdca26"
             ],
             [
              1,
              "#f0f921"
             ]
            ],
            "type": "heatmap"
           }
          ],
          "heatmapgl": [
           {
            "colorbar": {
             "outlinewidth": 0,
             "ticks": ""
            },
            "colorscale": [
             [
              0,
              "#0d0887"
             ],
             [
              0.1111111111111111,
              "#46039f"
             ],
             [
              0.2222222222222222,
              "#7201a8"
             ],
             [
              0.3333333333333333,
              "#9c179e"
             ],
             [
              0.4444444444444444,
              "#bd3786"
             ],
             [
              0.5555555555555556,
              "#d8576b"
             ],
             [
              0.6666666666666666,
              "#ed7953"
             ],
             [
              0.7777777777777778,
              "#fb9f3a"
             ],
             [
              0.8888888888888888,
              "#fdca26"
             ],
             [
              1,
              "#f0f921"
             ]
            ],
            "type": "heatmapgl"
           }
          ],
          "histogram": [
           {
            "marker": {
             "pattern": {
              "fillmode": "overlay",
              "size": 10,
              "solidity": 0.2
             }
            },
            "type": "histogram"
           }
          ],
          "histogram2d": [
           {
            "colorbar": {
             "outlinewidth": 0,
             "ticks": ""
            },
            "colorscale": [
             [
              0,
              "#0d0887"
             ],
             [
              0.1111111111111111,
              "#46039f"
             ],
             [
              0.2222222222222222,
              "#7201a8"
             ],
             [
              0.3333333333333333,
              "#9c179e"
             ],
             [
              0.4444444444444444,
              "#bd3786"
             ],
             [
              0.5555555555555556,
              "#d8576b"
             ],
             [
              0.6666666666666666,
              "#ed7953"
             ],
             [
              0.7777777777777778,
              "#fb9f3a"
             ],
             [
              0.8888888888888888,
              "#fdca26"
             ],
             [
              1,
              "#f0f921"
             ]
            ],
            "type": "histogram2d"
           }
          ],
          "histogram2dcontour": [
           {
            "colorbar": {
             "outlinewidth": 0,
             "ticks": ""
            },
            "colorscale": [
             [
              0,
              "#0d0887"
             ],
             [
              0.1111111111111111,
              "#46039f"
             ],
             [
              0.2222222222222222,
              "#7201a8"
             ],
             [
              0.3333333333333333,
              "#9c179e"
             ],
             [
              0.4444444444444444,
              "#bd3786"
             ],
             [
              0.5555555555555556,
              "#d8576b"
             ],
             [
              0.6666666666666666,
              "#ed7953"
             ],
             [
              0.7777777777777778,
              "#fb9f3a"
             ],
             [
              0.8888888888888888,
              "#fdca26"
             ],
             [
              1,
              "#f0f921"
             ]
            ],
            "type": "histogram2dcontour"
           }
          ],
          "mesh3d": [
           {
            "colorbar": {
             "outlinewidth": 0,
             "ticks": ""
            },
            "type": "mesh3d"
           }
          ],
          "parcoords": [
           {
            "line": {
             "colorbar": {
              "outlinewidth": 0,
              "ticks": ""
             }
            },
            "type": "parcoords"
           }
          ],
          "pie": [
           {
            "automargin": true,
            "type": "pie"
           }
          ],
          "scatter": [
           {
            "fillpattern": {
             "fillmode": "overlay",
             "size": 10,
             "solidity": 0.2
            },
            "type": "scatter"
           }
          ],
          "scatter3d": [
           {
            "line": {
             "colorbar": {
              "outlinewidth": 0,
              "ticks": ""
             }
            },
            "marker": {
             "colorbar": {
              "outlinewidth": 0,
              "ticks": ""
             }
            },
            "type": "scatter3d"
           }
          ],
          "scattercarpet": [
           {
            "marker": {
             "colorbar": {
              "outlinewidth": 0,
              "ticks": ""
             }
            },
            "type": "scattercarpet"
           }
          ],
          "scattergeo": [
           {
            "marker": {
             "colorbar": {
              "outlinewidth": 0,
              "ticks": ""
             }
            },
            "type": "scattergeo"
           }
          ],
          "scattergl": [
           {
            "marker": {
             "colorbar": {
              "outlinewidth": 0,
              "ticks": ""
             }
            },
            "type": "scattergl"
           }
          ],
          "scattermapbox": [
           {
            "marker": {
             "colorbar": {
              "outlinewidth": 0,
              "ticks": ""
             }
            },
            "type": "scattermapbox"
           }
          ],
          "scatterpolar": [
           {
            "marker": {
             "colorbar": {
              "outlinewidth": 0,
              "ticks": ""
             }
            },
            "type": "scatterpolar"
           }
          ],
          "scatterpolargl": [
           {
            "marker": {
             "colorbar": {
              "outlinewidth": 0,
              "ticks": ""
             }
            },
            "type": "scatterpolargl"
           }
          ],
          "scatterternary": [
           {
            "marker": {
             "colorbar": {
              "outlinewidth": 0,
              "ticks": ""
             }
            },
            "type": "scatterternary"
           }
          ],
          "surface": [
           {
            "colorbar": {
             "outlinewidth": 0,
             "ticks": ""
            },
            "colorscale": [
             [
              0,
              "#0d0887"
             ],
             [
              0.1111111111111111,
              "#46039f"
             ],
             [
              0.2222222222222222,
              "#7201a8"
             ],
             [
              0.3333333333333333,
              "#9c179e"
             ],
             [
              0.4444444444444444,
              "#bd3786"
             ],
             [
              0.5555555555555556,
              "#d8576b"
             ],
             [
              0.6666666666666666,
              "#ed7953"
             ],
             [
              0.7777777777777778,
              "#fb9f3a"
             ],
             [
              0.8888888888888888,
              "#fdca26"
             ],
             [
              1,
              "#f0f921"
             ]
            ],
            "type": "surface"
           }
          ],
          "table": [
           {
            "cells": {
             "fill": {
              "color": "#EBF0F8"
             },
             "line": {
              "color": "white"
             }
            },
            "header": {
             "fill": {
              "color": "#C8D4E3"
             },
             "line": {
              "color": "white"
             }
            },
            "type": "table"
           }
          ]
         },
         "layout": {
          "annotationdefaults": {
           "arrowcolor": "#2a3f5f",
           "arrowhead": 0,
           "arrowwidth": 1
          },
          "autotypenumbers": "strict",
          "coloraxis": {
           "colorbar": {
            "outlinewidth": 0,
            "ticks": ""
           }
          },
          "colorscale": {
           "diverging": [
            [
             0,
             "#8e0152"
            ],
            [
             0.1,
             "#c51b7d"
            ],
            [
             0.2,
             "#de77ae"
            ],
            [
             0.3,
             "#f1b6da"
            ],
            [
             0.4,
             "#fde0ef"
            ],
            [
             0.5,
             "#f7f7f7"
            ],
            [
             0.6,
             "#e6f5d0"
            ],
            [
             0.7,
             "#b8e186"
            ],
            [
             0.8,
             "#7fbc41"
            ],
            [
             0.9,
             "#4d9221"
            ],
            [
             1,
             "#276419"
            ]
           ],
           "sequential": [
            [
             0,
             "#0d0887"
            ],
            [
             0.1111111111111111,
             "#46039f"
            ],
            [
             0.2222222222222222,
             "#7201a8"
            ],
            [
             0.3333333333333333,
             "#9c179e"
            ],
            [
             0.4444444444444444,
             "#bd3786"
            ],
            [
             0.5555555555555556,
             "#d8576b"
            ],
            [
             0.6666666666666666,
             "#ed7953"
            ],
            [
             0.7777777777777778,
             "#fb9f3a"
            ],
            [
             0.8888888888888888,
             "#fdca26"
            ],
            [
             1,
             "#f0f921"
            ]
           ],
           "sequentialminus": [
            [
             0,
             "#0d0887"
            ],
            [
             0.1111111111111111,
             "#46039f"
            ],
            [
             0.2222222222222222,
             "#7201a8"
            ],
            [
             0.3333333333333333,
             "#9c179e"
            ],
            [
             0.4444444444444444,
             "#bd3786"
            ],
            [
             0.5555555555555556,
             "#d8576b"
            ],
            [
             0.6666666666666666,
             "#ed7953"
            ],
            [
             0.7777777777777778,
             "#fb9f3a"
            ],
            [
             0.8888888888888888,
             "#fdca26"
            ],
            [
             1,
             "#f0f921"
            ]
           ]
          },
          "colorway": [
           "#636efa",
           "#EF553B",
           "#00cc96",
           "#ab63fa",
           "#FFA15A",
           "#19d3f3",
           "#FF6692",
           "#B6E880",
           "#FF97FF",
           "#FECB52"
          ],
          "font": {
           "color": "#2a3f5f"
          },
          "geo": {
           "bgcolor": "white",
           "lakecolor": "white",
           "landcolor": "#E5ECF6",
           "showlakes": true,
           "showland": true,
           "subunitcolor": "white"
          },
          "hoverlabel": {
           "align": "left"
          },
          "hovermode": "closest",
          "mapbox": {
           "style": "light"
          },
          "paper_bgcolor": "white",
          "plot_bgcolor": "#E5ECF6",
          "polar": {
           "angularaxis": {
            "gridcolor": "white",
            "linecolor": "white",
            "ticks": ""
           },
           "bgcolor": "#E5ECF6",
           "radialaxis": {
            "gridcolor": "white",
            "linecolor": "white",
            "ticks": ""
           }
          },
          "scene": {
           "xaxis": {
            "backgroundcolor": "#E5ECF6",
            "gridcolor": "white",
            "gridwidth": 2,
            "linecolor": "white",
            "showbackground": true,
            "ticks": "",
            "zerolinecolor": "white"
           },
           "yaxis": {
            "backgroundcolor": "#E5ECF6",
            "gridcolor": "white",
            "gridwidth": 2,
            "linecolor": "white",
            "showbackground": true,
            "ticks": "",
            "zerolinecolor": "white"
           },
           "zaxis": {
            "backgroundcolor": "#E5ECF6",
            "gridcolor": "white",
            "gridwidth": 2,
            "linecolor": "white",
            "showbackground": true,
            "ticks": "",
            "zerolinecolor": "white"
           }
          },
          "shapedefaults": {
           "line": {
            "color": "#2a3f5f"
           }
          },
          "ternary": {
           "aaxis": {
            "gridcolor": "white",
            "linecolor": "white",
            "ticks": ""
           },
           "baxis": {
            "gridcolor": "white",
            "linecolor": "white",
            "ticks": ""
           },
           "bgcolor": "#E5ECF6",
           "caxis": {
            "gridcolor": "white",
            "linecolor": "white",
            "ticks": ""
           }
          },
          "title": {
           "x": 0.05
          },
          "xaxis": {
           "automargin": true,
           "gridcolor": "white",
           "linecolor": "white",
           "ticks": "",
           "title": {
            "standoff": 15
           },
           "zerolinecolor": "white",
           "zerolinewidth": 2
          },
          "yaxis": {
           "automargin": true,
           "gridcolor": "white",
           "linecolor": "white",
           "ticks": "",
           "title": {
            "standoff": 15
           },
           "zerolinecolor": "white",
           "zerolinewidth": 2
          }
         }
        },
        "title": {
         "text": "CPU clock speed"
        },
        "xaxis": {
         "title": {
          "text": "Model"
         }
        },
        "yaxis": {
         "dtick": 0.2,
         "tickmode": "linear",
         "title": {
          "text": "Clock speed (GHz)"
         }
        }
       }
      },
      "text/html": [
       "<div>                            <div id=\"5c982f25-0015-46ee-ab39-3fb48053db4d\" class=\"plotly-graph-div\" style=\"height:525px; width:100%;\"></div>            <script type=\"text/javascript\">                require([\"plotly\"], function(Plotly) {                    window.PLOTLYENV=window.PLOTLYENV || {};                                    if (document.getElementById(\"5c982f25-0015-46ee-ab39-3fb48053db4d\")) {                    Plotly.newPlot(                        \"5c982f25-0015-46ee-ab39-3fb48053db4d\",                        [{\"marker\":{\"color\":\"#0f4c81\"},\"name\":\"Clock rate_base\",\"x\":[\"11900K\",\"11900KF\",\"11900\",\"11900F\",\"11900T\",\"11700K\",\"11700KF\",\"11700\",\"11700F\",\"11700T\",\"11600K\",\"11600KF\",\"11600\",\"11600T\",\"11500\",\"11500T\",\"11400\",\"11400F\",\"11400T\",\"W-11955M\",\"W-11865MRE\",\"W-11865MLE\",\"W-11855M\",\"W-11555MRE\",\"W-11555MLE\",\"W-11155MRE\",\"W-11155MLE\",\"11980HK\",\"11950H\",\"11900H\",\"11850HE\",\"11850H\",\"11800H\",\"11600H\",\"11390H\",\"11375H\",\"11370H\",\"1195G7\",\"1185GRE\",\"1185G7E\",\"1165G7\",\"1185G7\",\"1180G7\",\"1160G7 \",\"11500H\",\"11500HE\",\"11400H\",\"11260H\",\"11320H\",\"11300H \",\"1155G7\",\"1145G7\",\"1145G7E\",\"1135G7\",\"1130G7\",\"1140G7\",\"11100HE\",\"1125G4\",\"1120G4\",\"1115GRE\",\"1115G4\",\"1110G4\",\"Gold 7505\",\"6600HE\",\"6305\"],\"y\":[3.5,3.5,2.5,2.5,1.5,3.6,3.6,2.5,2.5,1.4,3.9,3.9,2.8,1.7,2.7,1.5,2.6,2.6,1.3,2.6,2.1,1.5,2.6,2.1,1.9,1.9,1.8,2.6,2.6,2.1,2.1,2.1,1.9,2.5,3.4,3.0,3.0,1.3,1.8,1.8,1.2,1.2,0.9,0.9,2.4,2.1,2.5,2.1,2.5,2.6,1.0,1.1,1.5,0.9,0.8,0.8,1.9,0.9,0.8,1.7,1.7,1.7,2.0,2.6,1.8],\"type\":\"bar\"},{\"marker\":{\"color\":\"#3283a8\"},\"name\":\"clock speed max\",\"x\":[\"11900K\",\"11900KF\",\"11900\",\"11900F\",\"11900T\",\"11700K\",\"11700KF\",\"11700\",\"11700F\",\"11700T\",\"11600K\",\"11600KF\",\"11600\",\"11600T\",\"11500\",\"11500T\",\"11400\",\"11400F\",\"11400T\",\"W-11955M\",\"W-11865MRE\",\"W-11865MLE\",\"W-11855M\",\"W-11555MRE\",\"W-11555MLE\",\"W-11155MRE\",\"W-11155MLE\",\"11980HK\",\"11950H\",\"11900H\",\"11850HE\",\"11850H\",\"11800H\",\"11600H\",\"11390H\",\"11375H\",\"11370H\",\"1195G7\",\"1185GRE\",\"1185G7E\",\"1165G7\",\"1185G7\",\"1180G7\",\"1160G7 \",\"11500H\",\"11500HE\",\"11400H\",\"11260H\",\"11320H\",\"11300H \",\"1155G7\",\"1145G7\",\"1145G7E\",\"1135G7\",\"1130G7\",\"1140G7\",\"11100HE\",\"1125G4\",\"1120G4\",\"1115GRE\",\"1115G4\",\"1110G4\",\"Gold 7505\",\"6600HE\",\"6305\"],\"y\":[1.2999999999999998,1.2999999999999998,2.2,2.2,2.2,0.9999999999999996,0.9999999999999996,1.9000000000000004,1.9000000000000004,2.2,0.6999999999999997,0.6999999999999997,1.5,1.8,1.5,1.9,1.6,1.6,1.9999999999999998,2.4,2.6,3.0,2.3000000000000003,2.4,2.5000000000000004,2.5000000000000004,1.3,2.4,2.4,2.8000000000000003,2.6,2.6999999999999997,2.6999999999999997,2.0999999999999996,1.6,2.0,1.7999999999999998,3.7,2.6000000000000005,2.6000000000000005,3.5,3.5999999999999996,3.6999999999999997,3.5000000000000004,2.1999999999999997,2.4,2.0,2.3000000000000003,2.0,1.8000000000000003,3.5,3.3000000000000003,2.5999999999999996,3.3000000000000003,3.2,3.4000000000000004,2.5000000000000004,2.8000000000000003,2.7,2.2,2.3999999999999995,2.2,1.9,null,null],\"type\":\"bar\"},{\"marker\":{\"color\":\"#EA0000\"},\"name\":\"clock speed turbo\",\"x\":[\"11900K\",\"11900KF\",\"11900\",\"11900F\",\"11900T\",\"11700K\",\"11700KF\",\"11700\",\"11700F\",\"11700T\",\"11600K\",\"11600KF\",\"11600\",\"11600T\",\"11500\",\"11500T\",\"11400\",\"11400F\",\"11400T\",\"W-11955M\",\"W-11865MRE\",\"W-11865MLE\",\"W-11855M\",\"W-11555MRE\",\"W-11555MLE\",\"W-11155MRE\",\"W-11155MLE\",\"11980HK\",\"11950H\",\"11900H\",\"11850HE\",\"11850H\",\"11800H\",\"11600H\",\"11390H\",\"11375H\",\"11370H\",\"1195G7\",\"1185GRE\",\"1185G7E\",\"1165G7\",\"1185G7\",\"1180G7\",\"1160G7 \",\"11500H\",\"11500HE\",\"11400H\",\"11260H\",\"11320H\",\"11300H \",\"1155G7\",\"1145G7\",\"1145G7E\",\"1135G7\",\"1130G7\",\"1140G7\",\"11100HE\",\"1125G4\",\"1120G4\",\"1115GRE\",\"1115G4\",\"1110G4\",\"Gold 7505\",\"6600HE\",\"6305\"],\"y\":[0.2999999999999998,0.2999999999999998,0.2999999999999998,0.2999999999999998,1.0999999999999996,0.3000000000000007,0.3000000000000007,0.39999999999999947,0.39999999999999947,0.8999999999999999,0.3000000000000007,0.3000000000000007,0.5,0.5999999999999996,0.39999999999999947,0.5,0.20000000000000018,0.20000000000000018,0.40000000000000036,null,null,null,null,null,null,null,null,null,null,null,null,null,null,null,null,null,null,null,null,null,null,null,null,null,null,null,null,null,null,null,null,null,null,null,null,null,null,null,null,null,null,null,null,null,null],\"type\":\"bar\"},{\"marker\":{\"color\":\"#6F00D2\"},\"name\":\"clock speed turbo boost\",\"x\":[\"11900K\",\"11900KF\",\"11900\",\"11900F\",\"11900T\",\"11700K\",\"11700KF\",\"11700\",\"11700F\",\"11700T\",\"11600K\",\"11600KF\",\"11600\",\"11600T\",\"11500\",\"11500T\",\"11400\",\"11400F\",\"11400T\",\"W-11955M\",\"W-11865MRE\",\"W-11865MLE\",\"W-11855M\",\"W-11555MRE\",\"W-11555MLE\",\"W-11155MRE\",\"W-11155MLE\",\"11980HK\",\"11950H\",\"11900H\",\"11850HE\",\"11850H\",\"11800H\",\"11600H\",\"11390H\",\"11375H\",\"11370H\",\"1195G7\",\"1185GRE\",\"1185G7E\",\"1165G7\",\"1185G7\",\"1180G7\",\"1160G7 \",\"11500H\",\"11500HE\",\"11400H\",\"11260H\",\"11320H\",\"11300H \",\"1155G7\",\"1145G7\",\"1145G7E\",\"1135G7\",\"1130G7\",\"1140G7\",\"11100HE\",\"1125G4\",\"1120G4\",\"1115GRE\",\"1115G4\",\"1110G4\",\"Gold 7505\",\"6600HE\",\"6305\"],\"y\":[0.10000000000000053,0.10000000000000053,0.09999999999999964,0.09999999999999964,0.10000000000000053,0.09999999999999964,0.09999999999999964,0.10000000000000053,0.10000000000000053,0.09999999999999964,null,null,null,null,null,null,null,null,null,null,null,null,null,null,null,null,null,null,null,null,null,null,null,null,null,null,null,null,null,null,null,null,null,null,null,null,null,null,null,null,null,null,null,null,null,null,null,null,null,null,null,null,null,null,null],\"type\":\"bar\"}],                        {\"template\":{\"data\":{\"histogram2dcontour\":[{\"type\":\"histogram2dcontour\",\"colorbar\":{\"outlinewidth\":0,\"ticks\":\"\"},\"colorscale\":[[0.0,\"#0d0887\"],[0.1111111111111111,\"#46039f\"],[0.2222222222222222,\"#7201a8\"],[0.3333333333333333,\"#9c179e\"],[0.4444444444444444,\"#bd3786\"],[0.5555555555555556,\"#d8576b\"],[0.6666666666666666,\"#ed7953\"],[0.7777777777777778,\"#fb9f3a\"],[0.8888888888888888,\"#fdca26\"],[1.0,\"#f0f921\"]]}],\"choropleth\":[{\"type\":\"choropleth\",\"colorbar\":{\"outlinewidth\":0,\"ticks\":\"\"}}],\"histogram2d\":[{\"type\":\"histogram2d\",\"colorbar\":{\"outlinewidth\":0,\"ticks\":\"\"},\"colorscale\":[[0.0,\"#0d0887\"],[0.1111111111111111,\"#46039f\"],[0.2222222222222222,\"#7201a8\"],[0.3333333333333333,\"#9c179e\"],[0.4444444444444444,\"#bd3786\"],[0.5555555555555556,\"#d8576b\"],[0.6666666666666666,\"#ed7953\"],[0.7777777777777778,\"#fb9f3a\"],[0.8888888888888888,\"#fdca26\"],[1.0,\"#f0f921\"]]}],\"heatmap\":[{\"type\":\"heatmap\",\"colorbar\":{\"outlinewidth\":0,\"ticks\":\"\"},\"colorscale\":[[0.0,\"#0d0887\"],[0.1111111111111111,\"#46039f\"],[0.2222222222222222,\"#7201a8\"],[0.3333333333333333,\"#9c179e\"],[0.4444444444444444,\"#bd3786\"],[0.5555555555555556,\"#d8576b\"],[0.6666666666666666,\"#ed7953\"],[0.7777777777777778,\"#fb9f3a\"],[0.8888888888888888,\"#fdca26\"],[1.0,\"#f0f921\"]]}],\"heatmapgl\":[{\"type\":\"heatmapgl\",\"colorbar\":{\"outlinewidth\":0,\"ticks\":\"\"},\"colorscale\":[[0.0,\"#0d0887\"],[0.1111111111111111,\"#46039f\"],[0.2222222222222222,\"#7201a8\"],[0.3333333333333333,\"#9c179e\"],[0.4444444444444444,\"#bd3786\"],[0.5555555555555556,\"#d8576b\"],[0.6666666666666666,\"#ed7953\"],[0.7777777777777778,\"#fb9f3a\"],[0.8888888888888888,\"#fdca26\"],[1.0,\"#f0f921\"]]}],\"contourcarpet\":[{\"type\":\"contourcarpet\",\"colorbar\":{\"outlinewidth\":0,\"ticks\":\"\"}}],\"contour\":[{\"type\":\"contour\",\"colorbar\":{\"outlinewidth\":0,\"ticks\":\"\"},\"colorscale\":[[0.0,\"#0d0887\"],[0.1111111111111111,\"#46039f\"],[0.2222222222222222,\"#7201a8\"],[0.3333333333333333,\"#9c179e\"],[0.4444444444444444,\"#bd3786\"],[0.5555555555555556,\"#d8576b\"],[0.6666666666666666,\"#ed7953\"],[0.7777777777777778,\"#fb9f3a\"],[0.8888888888888888,\"#fdca26\"],[1.0,\"#f0f921\"]]}],\"surface\":[{\"type\":\"surface\",\"colorbar\":{\"outlinewidth\":0,\"ticks\":\"\"},\"colorscale\":[[0.0,\"#0d0887\"],[0.1111111111111111,\"#46039f\"],[0.2222222222222222,\"#7201a8\"],[0.3333333333333333,\"#9c179e\"],[0.4444444444444444,\"#bd3786\"],[0.5555555555555556,\"#d8576b\"],[0.6666666666666666,\"#ed7953\"],[0.7777777777777778,\"#fb9f3a\"],[0.8888888888888888,\"#fdca26\"],[1.0,\"#f0f921\"]]}],\"mesh3d\":[{\"type\":\"mesh3d\",\"colorbar\":{\"outlinewidth\":0,\"ticks\":\"\"}}],\"scatter\":[{\"fillpattern\":{\"fillmode\":\"overlay\",\"size\":10,\"solidity\":0.2},\"type\":\"scatter\"}],\"parcoords\":[{\"type\":\"parcoords\",\"line\":{\"colorbar\":{\"outlinewidth\":0,\"ticks\":\"\"}}}],\"scatterpolargl\":[{\"type\":\"scatterpolargl\",\"marker\":{\"colorbar\":{\"outlinewidth\":0,\"ticks\":\"\"}}}],\"bar\":[{\"error_x\":{\"color\":\"#2a3f5f\"},\"error_y\":{\"color\":\"#2a3f5f\"},\"marker\":{\"line\":{\"color\":\"#E5ECF6\",\"width\":0.5},\"pattern\":{\"fillmode\":\"overlay\",\"size\":10,\"solidity\":0.2}},\"type\":\"bar\"}],\"scattergeo\":[{\"type\":\"scattergeo\",\"marker\":{\"colorbar\":{\"outlinewidth\":0,\"ticks\":\"\"}}}],\"scatterpolar\":[{\"type\":\"scatterpolar\",\"marker\":{\"colorbar\":{\"outlinewidth\":0,\"ticks\":\"\"}}}],\"histogram\":[{\"marker\":{\"pattern\":{\"fillmode\":\"overlay\",\"size\":10,\"solidity\":0.2}},\"type\":\"histogram\"}],\"scattergl\":[{\"type\":\"scattergl\",\"marker\":{\"colorbar\":{\"outlinewidth\":0,\"ticks\":\"\"}}}],\"scatter3d\":[{\"type\":\"scatter3d\",\"line\":{\"colorbar\":{\"outlinewidth\":0,\"ticks\":\"\"}},\"marker\":{\"colorbar\":{\"outlinewidth\":0,\"ticks\":\"\"}}}],\"scattermapbox\":[{\"type\":\"scattermapbox\",\"marker\":{\"colorbar\":{\"outlinewidth\":0,\"ticks\":\"\"}}}],\"scatterternary\":[{\"type\":\"scatterternary\",\"marker\":{\"colorbar\":{\"outlinewidth\":0,\"ticks\":\"\"}}}],\"scattercarpet\":[{\"type\":\"scattercarpet\",\"marker\":{\"colorbar\":{\"outlinewidth\":0,\"ticks\":\"\"}}}],\"carpet\":[{\"aaxis\":{\"endlinecolor\":\"#2a3f5f\",\"gridcolor\":\"white\",\"linecolor\":\"white\",\"minorgridcolor\":\"white\",\"startlinecolor\":\"#2a3f5f\"},\"baxis\":{\"endlinecolor\":\"#2a3f5f\",\"gridcolor\":\"white\",\"linecolor\":\"white\",\"minorgridcolor\":\"white\",\"startlinecolor\":\"#2a3f5f\"},\"type\":\"carpet\"}],\"table\":[{\"cells\":{\"fill\":{\"color\":\"#EBF0F8\"},\"line\":{\"color\":\"white\"}},\"header\":{\"fill\":{\"color\":\"#C8D4E3\"},\"line\":{\"color\":\"white\"}},\"type\":\"table\"}],\"barpolar\":[{\"marker\":{\"line\":{\"color\":\"#E5ECF6\",\"width\":0.5},\"pattern\":{\"fillmode\":\"overlay\",\"size\":10,\"solidity\":0.2}},\"type\":\"barpolar\"}],\"pie\":[{\"automargin\":true,\"type\":\"pie\"}]},\"layout\":{\"autotypenumbers\":\"strict\",\"colorway\":[\"#636efa\",\"#EF553B\",\"#00cc96\",\"#ab63fa\",\"#FFA15A\",\"#19d3f3\",\"#FF6692\",\"#B6E880\",\"#FF97FF\",\"#FECB52\"],\"font\":{\"color\":\"#2a3f5f\"},\"hovermode\":\"closest\",\"hoverlabel\":{\"align\":\"left\"},\"paper_bgcolor\":\"white\",\"plot_bgcolor\":\"#E5ECF6\",\"polar\":{\"bgcolor\":\"#E5ECF6\",\"angularaxis\":{\"gridcolor\":\"white\",\"linecolor\":\"white\",\"ticks\":\"\"},\"radialaxis\":{\"gridcolor\":\"white\",\"linecolor\":\"white\",\"ticks\":\"\"}},\"ternary\":{\"bgcolor\":\"#E5ECF6\",\"aaxis\":{\"gridcolor\":\"white\",\"linecolor\":\"white\",\"ticks\":\"\"},\"baxis\":{\"gridcolor\":\"white\",\"linecolor\":\"white\",\"ticks\":\"\"},\"caxis\":{\"gridcolor\":\"white\",\"linecolor\":\"white\",\"ticks\":\"\"}},\"coloraxis\":{\"colorbar\":{\"outlinewidth\":0,\"ticks\":\"\"}},\"colorscale\":{\"sequential\":[[0.0,\"#0d0887\"],[0.1111111111111111,\"#46039f\"],[0.2222222222222222,\"#7201a8\"],[0.3333333333333333,\"#9c179e\"],[0.4444444444444444,\"#bd3786\"],[0.5555555555555556,\"#d8576b\"],[0.6666666666666666,\"#ed7953\"],[0.7777777777777778,\"#fb9f3a\"],[0.8888888888888888,\"#fdca26\"],[1.0,\"#f0f921\"]],\"sequentialminus\":[[0.0,\"#0d0887\"],[0.1111111111111111,\"#46039f\"],[0.2222222222222222,\"#7201a8\"],[0.3333333333333333,\"#9c179e\"],[0.4444444444444444,\"#bd3786\"],[0.5555555555555556,\"#d8576b\"],[0.6666666666666666,\"#ed7953\"],[0.7777777777777778,\"#fb9f3a\"],[0.8888888888888888,\"#fdca26\"],[1.0,\"#f0f921\"]],\"diverging\":[[0,\"#8e0152\"],[0.1,\"#c51b7d\"],[0.2,\"#de77ae\"],[0.3,\"#f1b6da\"],[0.4,\"#fde0ef\"],[0.5,\"#f7f7f7\"],[0.6,\"#e6f5d0\"],[0.7,\"#b8e186\"],[0.8,\"#7fbc41\"],[0.9,\"#4d9221\"],[1,\"#276419\"]]},\"xaxis\":{\"gridcolor\":\"white\",\"linecolor\":\"white\",\"ticks\":\"\",\"title\":{\"standoff\":15},\"zerolinecolor\":\"white\",\"automargin\":true,\"zerolinewidth\":2},\"yaxis\":{\"gridcolor\":\"white\",\"linecolor\":\"white\",\"ticks\":\"\",\"title\":{\"standoff\":15},\"zerolinecolor\":\"white\",\"automargin\":true,\"zerolinewidth\":2},\"scene\":{\"xaxis\":{\"backgroundcolor\":\"#E5ECF6\",\"gridcolor\":\"white\",\"linecolor\":\"white\",\"showbackground\":true,\"ticks\":\"\",\"zerolinecolor\":\"white\",\"gridwidth\":2},\"yaxis\":{\"backgroundcolor\":\"#E5ECF6\",\"gridcolor\":\"white\",\"linecolor\":\"white\",\"showbackground\":true,\"ticks\":\"\",\"zerolinecolor\":\"white\",\"gridwidth\":2},\"zaxis\":{\"backgroundcolor\":\"#E5ECF6\",\"gridcolor\":\"white\",\"linecolor\":\"white\",\"showbackground\":true,\"ticks\":\"\",\"zerolinecolor\":\"white\",\"gridwidth\":2}},\"shapedefaults\":{\"line\":{\"color\":\"#2a3f5f\"}},\"annotationdefaults\":{\"arrowcolor\":\"#2a3f5f\",\"arrowhead\":0,\"arrowwidth\":1},\"geo\":{\"bgcolor\":\"white\",\"landcolor\":\"#E5ECF6\",\"subunitcolor\":\"white\",\"showland\":true,\"showlakes\":true,\"lakecolor\":\"white\"},\"title\":{\"x\":0.05},\"mapbox\":{\"style\":\"light\"}}},\"yaxis\":{\"title\":{\"text\":\"Clock speed (GHz)\"},\"tickmode\":\"linear\",\"dtick\":0.2},\"title\":{\"text\":\"CPU clock speed\"},\"xaxis\":{\"title\":{\"text\":\"Model\"}},\"barmode\":\"stack\"},                        {\"responsive\": true}                    ).then(function(){\n",
       "                            \n",
       "var gd = document.getElementById('5c982f25-0015-46ee-ab39-3fb48053db4d');\n",
       "var x = new MutationObserver(function (mutations, observer) {{\n",
       "        var display = window.getComputedStyle(gd).display;\n",
       "        if (!display || display === 'none') {{\n",
       "            console.log([gd, 'removed!']);\n",
       "            Plotly.purge(gd);\n",
       "            observer.disconnect();\n",
       "        }}\n",
       "}});\n",
       "\n",
       "// Listen for the removal of the full notebook cells\n",
       "var notebookContainer = gd.closest('#notebook-container');\n",
       "if (notebookContainer) {{\n",
       "    x.observe(notebookContainer, {childList: true});\n",
       "}}\n",
       "\n",
       "// Listen for the clearing of the current output cell\n",
       "var outputEl = gd.closest('.output');\n",
       "if (outputEl) {{\n",
       "    x.observe(outputEl, {childList: true});\n",
       "}}\n",
       "\n",
       "                        })                };                });            </script>        </div>"
      ]
     },
     "metadata": {},
     "output_type": "display_data"
    }
   ],
   "source": [
    "import pandas as pd\n",
    "import plotly.graph_objs as go\n",
    "import numpy as np\n",
    "\n",
    "# 讀取CSV文件並轉換為DataFrame\n",
    "df = pd.read_csv('11th gen intel.csv', index_col=0)\n",
    "\n",
    "# 指定用作x軸的基礎列\n",
    "x_values = df['Model']\n",
    "\n",
    "# 計算 Clock rate_max、Clock rate_turbo、Clock rate_turbo boost 和 Clock rate_base 之間的差值\n",
    "diff_values = (df['Clock rate_max'] - df['Clock rate_base'])\n",
    "diff_values_2 = (df['Clock rate_turbo'] - df['Clock rate_max'])\n",
    "diff_values_3 = (df['Clock rate_turbo boost'] - df['Clock rate_turbo'])\n",
    "\n",
    "# 創建長條圖，將 Clock rate_base 的值作為基礎，並將差值疊加到上面\n",
    "fig = go.Figure(go.Bar(x=x_values, y=df['Clock rate_base'], name='Clock rate_base', marker_color='#0f4c81'))\n",
    "fig.add_trace(go.Bar(x=x_values, y=diff_values, name='clock speed max', marker_color='#3283a8'))\n",
    "fig.add_trace(go.Bar(x=x_values, y=diff_values_2, name='clock speed turbo', marker_color='#EA0000'))\n",
    "fig.add_trace(go.Bar(x=x_values, y=diff_values_3, name='clock speed turbo boost', marker_color='#6F00D2'))\n",
    "\n",
    "# 更新圖表的樣式和佈局\n",
    "fig.update_layout(title='CPU clock speed', xaxis_title='Model', yaxis_title='Clock speed (GHz)', barmode='stack', yaxis_tickmode='linear', yaxis_dtick=0.2)\n",
    "\n",
    "# 顯示圖表\n",
    "fig.show()\n",
    "\n"
   ]
  },
  {
   "cell_type": "code",
   "execution_count": 42,
   "id": "ef28f622",
   "metadata": {},
   "outputs": [
    {
     "data": {
      "application/vnd.plotly.v1+json": {
       "config": {
        "plotlyServerURL": "https://plot.ly"
       },
       "data": [
        {
         "mode": "markers",
         "type": "scatter",
         "x": [
          1.3,
          null,
          1.3,
          null,
          1.3,
          1.3,
          null,
          1.3,
          null,
          1.3,
          1.3,
          null,
          1.3,
          1.3,
          1.3,
          1.2,
          1.3,
          null,
          1.2,
          1.45,
          1.35,
          1.35,
          1.45,
          1.35,
          1.35,
          1.25,
          1.25,
          1.45,
          1.45,
          1.45,
          1.35,
          1.45,
          1.45,
          1.45,
          1.4,
          1.35,
          1.35,
          1.4,
          1.35,
          1.35,
          1.3,
          1.35,
          1.1,
          1.1,
          1.45,
          1.35,
          1.45,
          1.4,
          1.35,
          1.3,
          1.35,
          1.3,
          1.3,
          1.3,
          1.1,
          1.1,
          1.25,
          1.25,
          1.1,
          1.25,
          1.25,
          1.1,
          1.25,
          1.1,
          1.25
         ],
         "y": [
          32,
          null,
          32,
          null,
          32,
          32,
          null,
          32,
          null,
          32,
          32,
          null,
          32,
          32,
          32,
          32,
          24,
          null,
          24,
          32,
          32,
          32,
          32,
          32,
          32,
          16,
          16,
          32,
          32,
          32,
          32,
          32,
          32,
          32,
          96,
          96,
          96,
          96,
          96,
          96,
          96,
          96,
          96,
          96,
          32,
          32,
          16,
          16,
          96,
          80,
          80,
          80,
          80,
          80,
          80,
          80,
          16,
          48,
          48,
          48,
          48,
          48,
          48,
          16,
          48
         ]
        },
        {
         "mode": "markers",
         "text": [
          "11900K",
          "11900KF",
          "11900",
          "11900F",
          "11900T",
          "11700K",
          "11700KF",
          "11700",
          "11700F",
          "11700T",
          "11600K",
          "11600KF",
          "11600",
          "11600T",
          "11500",
          "11500T",
          "11400",
          "11400F",
          "11400T",
          "W-11955M",
          "W-11865MRE",
          "W-11865MLE",
          "W-11855M",
          "W-11555MRE",
          "W-11555MLE",
          "W-11155MRE",
          "W-11155MLE",
          "11980HK",
          "11950H",
          "11900H",
          "11850HE",
          "11850H",
          "11800H",
          "11600H",
          "11390H",
          "11375H",
          "11370H",
          "1195G7",
          "1185GRE",
          "1185G7E",
          "1165G7",
          "1185G7",
          "1180G7",
          "1160G7 ",
          "11500H",
          "11500HE",
          "11400H",
          "11260H",
          "11320H",
          "11300H ",
          "1155G7",
          "1145G7",
          "1145G7E",
          "1135G7",
          "1130G7",
          "1140G7",
          "11100HE",
          "1125G4",
          "1120G4",
          "1115GRE",
          "1115G4",
          "1110G4",
          "Gold 7505",
          "6600HE",
          "6305"
         ],
         "type": "scatter",
         "x": [
          1.3,
          null,
          1.3,
          null,
          1.3,
          1.3,
          null,
          1.3,
          null,
          1.3,
          1.3,
          null,
          1.3,
          1.3,
          1.3,
          1.2,
          1.3,
          null,
          1.2,
          1.45,
          1.35,
          1.35,
          1.45,
          1.35,
          1.35,
          1.25,
          1.25,
          1.45,
          1.45,
          1.45,
          1.35,
          1.45,
          1.45,
          1.45,
          1.4,
          1.35,
          1.35,
          1.4,
          1.35,
          1.35,
          1.3,
          1.35,
          1.1,
          1.1,
          1.45,
          1.35,
          1.45,
          1.4,
          1.35,
          1.3,
          1.35,
          1.3,
          1.3,
          1.3,
          1.1,
          1.1,
          1.25,
          1.25,
          1.1,
          1.25,
          1.25,
          1.1,
          1.25,
          1.1,
          1.25
         ],
         "y": [
          32,
          null,
          32,
          null,
          32,
          32,
          null,
          32,
          null,
          32,
          32,
          null,
          32,
          32,
          32,
          32,
          24,
          null,
          24,
          32,
          32,
          32,
          32,
          32,
          32,
          16,
          16,
          32,
          32,
          32,
          32,
          32,
          32,
          32,
          96,
          96,
          96,
          96,
          96,
          96,
          96,
          96,
          96,
          96,
          32,
          32,
          16,
          16,
          96,
          80,
          80,
          80,
          80,
          80,
          80,
          80,
          16,
          48,
          48,
          48,
          48,
          48,
          48,
          16,
          48
         ]
        }
       ],
       "layout": {
        "template": {
         "data": {
          "bar": [
           {
            "error_x": {
             "color": "#2a3f5f"
            },
            "error_y": {
             "color": "#2a3f5f"
            },
            "marker": {
             "line": {
              "color": "#E5ECF6",
              "width": 0.5
             },
             "pattern": {
              "fillmode": "overlay",
              "size": 10,
              "solidity": 0.2
             }
            },
            "type": "bar"
           }
          ],
          "barpolar": [
           {
            "marker": {
             "line": {
              "color": "#E5ECF6",
              "width": 0.5
             },
             "pattern": {
              "fillmode": "overlay",
              "size": 10,
              "solidity": 0.2
             }
            },
            "type": "barpolar"
           }
          ],
          "carpet": [
           {
            "aaxis": {
             "endlinecolor": "#2a3f5f",
             "gridcolor": "white",
             "linecolor": "white",
             "minorgridcolor": "white",
             "startlinecolor": "#2a3f5f"
            },
            "baxis": {
             "endlinecolor": "#2a3f5f",
             "gridcolor": "white",
             "linecolor": "white",
             "minorgridcolor": "white",
             "startlinecolor": "#2a3f5f"
            },
            "type": "carpet"
           }
          ],
          "choropleth": [
           {
            "colorbar": {
             "outlinewidth": 0,
             "ticks": ""
            },
            "type": "choropleth"
           }
          ],
          "contour": [
           {
            "colorbar": {
             "outlinewidth": 0,
             "ticks": ""
            },
            "colorscale": [
             [
              0,
              "#0d0887"
             ],
             [
              0.1111111111111111,
              "#46039f"
             ],
             [
              0.2222222222222222,
              "#7201a8"
             ],
             [
              0.3333333333333333,
              "#9c179e"
             ],
             [
              0.4444444444444444,
              "#bd3786"
             ],
             [
              0.5555555555555556,
              "#d8576b"
             ],
             [
              0.6666666666666666,
              "#ed7953"
             ],
             [
              0.7777777777777778,
              "#fb9f3a"
             ],
             [
              0.8888888888888888,
              "#fdca26"
             ],
             [
              1,
              "#f0f921"
             ]
            ],
            "type": "contour"
           }
          ],
          "contourcarpet": [
           {
            "colorbar": {
             "outlinewidth": 0,
             "ticks": ""
            },
            "type": "contourcarpet"
           }
          ],
          "heatmap": [
           {
            "colorbar": {
             "outlinewidth": 0,
             "ticks": ""
            },
            "colorscale": [
             [
              0,
              "#0d0887"
             ],
             [
              0.1111111111111111,
              "#46039f"
             ],
             [
              0.2222222222222222,
              "#7201a8"
             ],
             [
              0.3333333333333333,
              "#9c179e"
             ],
             [
              0.4444444444444444,
              "#bd3786"
             ],
             [
              0.5555555555555556,
              "#d8576b"
             ],
             [
              0.6666666666666666,
              "#ed7953"
             ],
             [
              0.7777777777777778,
              "#fb9f3a"
             ],
             [
              0.8888888888888888,
              "#fdca26"
             ],
             [
              1,
              "#f0f921"
             ]
            ],
            "type": "heatmap"
           }
          ],
          "heatmapgl": [
           {
            "colorbar": {
             "outlinewidth": 0,
             "ticks": ""
            },
            "colorscale": [
             [
              0,
              "#0d0887"
             ],
             [
              0.1111111111111111,
              "#46039f"
             ],
             [
              0.2222222222222222,
              "#7201a8"
             ],
             [
              0.3333333333333333,
              "#9c179e"
             ],
             [
              0.4444444444444444,
              "#bd3786"
             ],
             [
              0.5555555555555556,
              "#d8576b"
             ],
             [
              0.6666666666666666,
              "#ed7953"
             ],
             [
              0.7777777777777778,
              "#fb9f3a"
             ],
             [
              0.8888888888888888,
              "#fdca26"
             ],
             [
              1,
              "#f0f921"
             ]
            ],
            "type": "heatmapgl"
           }
          ],
          "histogram": [
           {
            "marker": {
             "pattern": {
              "fillmode": "overlay",
              "size": 10,
              "solidity": 0.2
             }
            },
            "type": "histogram"
           }
          ],
          "histogram2d": [
           {
            "colorbar": {
             "outlinewidth": 0,
             "ticks": ""
            },
            "colorscale": [
             [
              0,
              "#0d0887"
             ],
             [
              0.1111111111111111,
              "#46039f"
             ],
             [
              0.2222222222222222,
              "#7201a8"
             ],
             [
              0.3333333333333333,
              "#9c179e"
             ],
             [
              0.4444444444444444,
              "#bd3786"
             ],
             [
              0.5555555555555556,
              "#d8576b"
             ],
             [
              0.6666666666666666,
              "#ed7953"
             ],
             [
              0.7777777777777778,
              "#fb9f3a"
             ],
             [
              0.8888888888888888,
              "#fdca26"
             ],
             [
              1,
              "#f0f921"
             ]
            ],
            "type": "histogram2d"
           }
          ],
          "histogram2dcontour": [
           {
            "colorbar": {
             "outlinewidth": 0,
             "ticks": ""
            },
            "colorscale": [
             [
              0,
              "#0d0887"
             ],
             [
              0.1111111111111111,
              "#46039f"
             ],
             [
              0.2222222222222222,
              "#7201a8"
             ],
             [
              0.3333333333333333,
              "#9c179e"
             ],
             [
              0.4444444444444444,
              "#bd3786"
             ],
             [
              0.5555555555555556,
              "#d8576b"
             ],
             [
              0.6666666666666666,
              "#ed7953"
             ],
             [
              0.7777777777777778,
              "#fb9f3a"
             ],
             [
              0.8888888888888888,
              "#fdca26"
             ],
             [
              1,
              "#f0f921"
             ]
            ],
            "type": "histogram2dcontour"
           }
          ],
          "mesh3d": [
           {
            "colorbar": {
             "outlinewidth": 0,
             "ticks": ""
            },
            "type": "mesh3d"
           }
          ],
          "parcoords": [
           {
            "line": {
             "colorbar": {
              "outlinewidth": 0,
              "ticks": ""
             }
            },
            "type": "parcoords"
           }
          ],
          "pie": [
           {
            "automargin": true,
            "type": "pie"
           }
          ],
          "scatter": [
           {
            "fillpattern": {
             "fillmode": "overlay",
             "size": 10,
             "solidity": 0.2
            },
            "type": "scatter"
           }
          ],
          "scatter3d": [
           {
            "line": {
             "colorbar": {
              "outlinewidth": 0,
              "ticks": ""
             }
            },
            "marker": {
             "colorbar": {
              "outlinewidth": 0,
              "ticks": ""
             }
            },
            "type": "scatter3d"
           }
          ],
          "scattercarpet": [
           {
            "marker": {
             "colorbar": {
              "outlinewidth": 0,
              "ticks": ""
             }
            },
            "type": "scattercarpet"
           }
          ],
          "scattergeo": [
           {
            "marker": {
             "colorbar": {
              "outlinewidth": 0,
              "ticks": ""
             }
            },
            "type": "scattergeo"
           }
          ],
          "scattergl": [
           {
            "marker": {
             "colorbar": {
              "outlinewidth": 0,
              "ticks": ""
             }
            },
            "type": "scattergl"
           }
          ],
          "scattermapbox": [
           {
            "marker": {
             "colorbar": {
              "outlinewidth": 0,
              "ticks": ""
             }
            },
            "type": "scattermapbox"
           }
          ],
          "scatterpolar": [
           {
            "marker": {
             "colorbar": {
              "outlinewidth": 0,
              "ticks": ""
             }
            },
            "type": "scatterpolar"
           }
          ],
          "scatterpolargl": [
           {
            "marker": {
             "colorbar": {
              "outlinewidth": 0,
              "ticks": ""
             }
            },
            "type": "scatterpolargl"
           }
          ],
          "scatterternary": [
           {
            "marker": {
             "colorbar": {
              "outlinewidth": 0,
              "ticks": ""
             }
            },
            "type": "scatterternary"
           }
          ],
          "surface": [
           {
            "colorbar": {
             "outlinewidth": 0,
             "ticks": ""
            },
            "colorscale": [
             [
              0,
              "#0d0887"
             ],
             [
              0.1111111111111111,
              "#46039f"
             ],
             [
              0.2222222222222222,
              "#7201a8"
             ],
             [
              0.3333333333333333,
              "#9c179e"
             ],
             [
              0.4444444444444444,
              "#bd3786"
             ],
             [
              0.5555555555555556,
              "#d8576b"
             ],
             [
              0.6666666666666666,
              "#ed7953"
             ],
             [
              0.7777777777777778,
              "#fb9f3a"
             ],
             [
              0.8888888888888888,
              "#fdca26"
             ],
             [
              1,
              "#f0f921"
             ]
            ],
            "type": "surface"
           }
          ],
          "table": [
           {
            "cells": {
             "fill": {
              "color": "#EBF0F8"
             },
             "line": {
              "color": "white"
             }
            },
            "header": {
             "fill": {
              "color": "#C8D4E3"
             },
             "line": {
              "color": "white"
             }
            },
            "type": "table"
           }
          ]
         },
         "layout": {
          "annotationdefaults": {
           "arrowcolor": "#2a3f5f",
           "arrowhead": 0,
           "arrowwidth": 1
          },
          "autotypenumbers": "strict",
          "coloraxis": {
           "colorbar": {
            "outlinewidth": 0,
            "ticks": ""
           }
          },
          "colorscale": {
           "diverging": [
            [
             0,
             "#8e0152"
            ],
            [
             0.1,
             "#c51b7d"
            ],
            [
             0.2,
             "#de77ae"
            ],
            [
             0.3,
             "#f1b6da"
            ],
            [
             0.4,
             "#fde0ef"
            ],
            [
             0.5,
             "#f7f7f7"
            ],
            [
             0.6,
             "#e6f5d0"
            ],
            [
             0.7,
             "#b8e186"
            ],
            [
             0.8,
             "#7fbc41"
            ],
            [
             0.9,
             "#4d9221"
            ],
            [
             1,
             "#276419"
            ]
           ],
           "sequential": [
            [
             0,
             "#0d0887"
            ],
            [
             0.1111111111111111,
             "#46039f"
            ],
            [
             0.2222222222222222,
             "#7201a8"
            ],
            [
             0.3333333333333333,
             "#9c179e"
            ],
            [
             0.4444444444444444,
             "#bd3786"
            ],
            [
             0.5555555555555556,
             "#d8576b"
            ],
            [
             0.6666666666666666,
             "#ed7953"
            ],
            [
             0.7777777777777778,
             "#fb9f3a"
            ],
            [
             0.8888888888888888,
             "#fdca26"
            ],
            [
             1,
             "#f0f921"
            ]
           ],
           "sequentialminus": [
            [
             0,
             "#0d0887"
            ],
            [
             0.1111111111111111,
             "#46039f"
            ],
            [
             0.2222222222222222,
             "#7201a8"
            ],
            [
             0.3333333333333333,
             "#9c179e"
            ],
            [
             0.4444444444444444,
             "#bd3786"
            ],
            [
             0.5555555555555556,
             "#d8576b"
            ],
            [
             0.6666666666666666,
             "#ed7953"
            ],
            [
             0.7777777777777778,
             "#fb9f3a"
            ],
            [
             0.8888888888888888,
             "#fdca26"
            ],
            [
             1,
             "#f0f921"
            ]
           ]
          },
          "colorway": [
           "#636efa",
           "#EF553B",
           "#00cc96",
           "#ab63fa",
           "#FFA15A",
           "#19d3f3",
           "#FF6692",
           "#B6E880",
           "#FF97FF",
           "#FECB52"
          ],
          "font": {
           "color": "#2a3f5f"
          },
          "geo": {
           "bgcolor": "white",
           "lakecolor": "white",
           "landcolor": "#E5ECF6",
           "showlakes": true,
           "showland": true,
           "subunitcolor": "white"
          },
          "hoverlabel": {
           "align": "left"
          },
          "hovermode": "closest",
          "mapbox": {
           "style": "light"
          },
          "paper_bgcolor": "white",
          "plot_bgcolor": "#E5ECF6",
          "polar": {
           "angularaxis": {
            "gridcolor": "white",
            "linecolor": "white",
            "ticks": ""
           },
           "bgcolor": "#E5ECF6",
           "radialaxis": {
            "gridcolor": "white",
            "linecolor": "white",
            "ticks": ""
           }
          },
          "scene": {
           "xaxis": {
            "backgroundcolor": "#E5ECF6",
            "gridcolor": "white",
            "gridwidth": 2,
            "linecolor": "white",
            "showbackground": true,
            "ticks": "",
            "zerolinecolor": "white"
           },
           "yaxis": {
            "backgroundcolor": "#E5ECF6",
            "gridcolor": "white",
            "gridwidth": 2,
            "linecolor": "white",
            "showbackground": true,
            "ticks": "",
            "zerolinecolor": "white"
           },
           "zaxis": {
            "backgroundcolor": "#E5ECF6",
            "gridcolor": "white",
            "gridwidth": 2,
            "linecolor": "white",
            "showbackground": true,
            "ticks": "",
            "zerolinecolor": "white"
           }
          },
          "shapedefaults": {
           "line": {
            "color": "#2a3f5f"
           }
          },
          "ternary": {
           "aaxis": {
            "gridcolor": "white",
            "linecolor": "white",
            "ticks": ""
           },
           "baxis": {
            "gridcolor": "white",
            "linecolor": "white",
            "ticks": ""
           },
           "bgcolor": "#E5ECF6",
           "caxis": {
            "gridcolor": "white",
            "linecolor": "white",
            "ticks": ""
           }
          },
          "title": {
           "x": 0.05
          },
          "xaxis": {
           "automargin": true,
           "gridcolor": "white",
           "linecolor": "white",
           "ticks": "",
           "title": {
            "standoff": 15
           },
           "zerolinecolor": "white",
           "zerolinewidth": 2
          },
          "yaxis": {
           "automargin": true,
           "gridcolor": "white",
           "linecolor": "white",
           "ticks": "",
           "title": {
            "standoff": 15
           },
           "zerolinecolor": "white",
           "zerolinewidth": 2
          }
         }
        },
        "title": {
         "text": "IGPU spec"
        },
        "xaxis": {
         "title": {
          "text": "IGPU Clock speed (GHz)"
         }
        },
        "yaxis": {
         "title": {
          "text": "IGPU EUs"
         }
        }
       }
      },
      "text/html": [
       "<div>                            <div id=\"913ac71f-cd7f-48f5-91a8-2b092a049130\" class=\"plotly-graph-div\" style=\"height:525px; width:100%;\"></div>            <script type=\"text/javascript\">                require([\"plotly\"], function(Plotly) {                    window.PLOTLYENV=window.PLOTLYENV || {};                                    if (document.getElementById(\"913ac71f-cd7f-48f5-91a8-2b092a049130\")) {                    Plotly.newPlot(                        \"913ac71f-cd7f-48f5-91a8-2b092a049130\",                        [{\"mode\":\"markers\",\"x\":[1.3,null,1.3,null,1.3,1.3,null,1.3,null,1.3,1.3,null,1.3,1.3,1.3,1.2,1.3,null,1.2,1.45,1.35,1.35,1.45,1.35,1.35,1.25,1.25,1.45,1.45,1.45,1.35,1.45,1.45,1.45,1.4,1.35,1.35,1.4,1.35,1.35,1.3,1.35,1.1,1.1,1.45,1.35,1.45,1.4,1.35,1.3,1.35,1.3,1.3,1.3,1.1,1.1,1.25,1.25,1.1,1.25,1.25,1.1,1.25,1.1,1.25],\"y\":[32.0,null,32.0,null,32.0,32.0,null,32.0,null,32.0,32.0,null,32.0,32.0,32.0,32.0,24.0,null,24.0,32.0,32.0,32.0,32.0,32.0,32.0,16.0,16.0,32.0,32.0,32.0,32.0,32.0,32.0,32.0,96.0,96.0,96.0,96.0,96.0,96.0,96.0,96.0,96.0,96.0,32.0,32.0,16.0,16.0,96.0,80.0,80.0,80.0,80.0,80.0,80.0,80.0,16.0,48.0,48.0,48.0,48.0,48.0,48.0,16.0,48.0],\"type\":\"scatter\"},{\"mode\":\"markers\",\"text\":[\"11900K\",\"11900KF\",\"11900\",\"11900F\",\"11900T\",\"11700K\",\"11700KF\",\"11700\",\"11700F\",\"11700T\",\"11600K\",\"11600KF\",\"11600\",\"11600T\",\"11500\",\"11500T\",\"11400\",\"11400F\",\"11400T\",\"W-11955M\",\"W-11865MRE\",\"W-11865MLE\",\"W-11855M\",\"W-11555MRE\",\"W-11555MLE\",\"W-11155MRE\",\"W-11155MLE\",\"11980HK\",\"11950H\",\"11900H\",\"11850HE\",\"11850H\",\"11800H\",\"11600H\",\"11390H\",\"11375H\",\"11370H\",\"1195G7\",\"1185GRE\",\"1185G7E\",\"1165G7\",\"1185G7\",\"1180G7\",\"1160G7 \",\"11500H\",\"11500HE\",\"11400H\",\"11260H\",\"11320H\",\"11300H \",\"1155G7\",\"1145G7\",\"1145G7E\",\"1135G7\",\"1130G7\",\"1140G7\",\"11100HE\",\"1125G4\",\"1120G4\",\"1115GRE\",\"1115G4\",\"1110G4\",\"Gold 7505\",\"6600HE\",\"6305\"],\"x\":[1.3,null,1.3,null,1.3,1.3,null,1.3,null,1.3,1.3,null,1.3,1.3,1.3,1.2,1.3,null,1.2,1.45,1.35,1.35,1.45,1.35,1.35,1.25,1.25,1.45,1.45,1.45,1.35,1.45,1.45,1.45,1.4,1.35,1.35,1.4,1.35,1.35,1.3,1.35,1.1,1.1,1.45,1.35,1.45,1.4,1.35,1.3,1.35,1.3,1.3,1.3,1.1,1.1,1.25,1.25,1.1,1.25,1.25,1.1,1.25,1.1,1.25],\"y\":[32.0,null,32.0,null,32.0,32.0,null,32.0,null,32.0,32.0,null,32.0,32.0,32.0,32.0,24.0,null,24.0,32.0,32.0,32.0,32.0,32.0,32.0,16.0,16.0,32.0,32.0,32.0,32.0,32.0,32.0,32.0,96.0,96.0,96.0,96.0,96.0,96.0,96.0,96.0,96.0,96.0,32.0,32.0,16.0,16.0,96.0,80.0,80.0,80.0,80.0,80.0,80.0,80.0,16.0,48.0,48.0,48.0,48.0,48.0,48.0,16.0,48.0],\"type\":\"scatter\"}],                        {\"template\":{\"data\":{\"histogram2dcontour\":[{\"type\":\"histogram2dcontour\",\"colorbar\":{\"outlinewidth\":0,\"ticks\":\"\"},\"colorscale\":[[0.0,\"#0d0887\"],[0.1111111111111111,\"#46039f\"],[0.2222222222222222,\"#7201a8\"],[0.3333333333333333,\"#9c179e\"],[0.4444444444444444,\"#bd3786\"],[0.5555555555555556,\"#d8576b\"],[0.6666666666666666,\"#ed7953\"],[0.7777777777777778,\"#fb9f3a\"],[0.8888888888888888,\"#fdca26\"],[1.0,\"#f0f921\"]]}],\"choropleth\":[{\"type\":\"choropleth\",\"colorbar\":{\"outlinewidth\":0,\"ticks\":\"\"}}],\"histogram2d\":[{\"type\":\"histogram2d\",\"colorbar\":{\"outlinewidth\":0,\"ticks\":\"\"},\"colorscale\":[[0.0,\"#0d0887\"],[0.1111111111111111,\"#46039f\"],[0.2222222222222222,\"#7201a8\"],[0.3333333333333333,\"#9c179e\"],[0.4444444444444444,\"#bd3786\"],[0.5555555555555556,\"#d8576b\"],[0.6666666666666666,\"#ed7953\"],[0.7777777777777778,\"#fb9f3a\"],[0.8888888888888888,\"#fdca26\"],[1.0,\"#f0f921\"]]}],\"heatmap\":[{\"type\":\"heatmap\",\"colorbar\":{\"outlinewidth\":0,\"ticks\":\"\"},\"colorscale\":[[0.0,\"#0d0887\"],[0.1111111111111111,\"#46039f\"],[0.2222222222222222,\"#7201a8\"],[0.3333333333333333,\"#9c179e\"],[0.4444444444444444,\"#bd3786\"],[0.5555555555555556,\"#d8576b\"],[0.6666666666666666,\"#ed7953\"],[0.7777777777777778,\"#fb9f3a\"],[0.8888888888888888,\"#fdca26\"],[1.0,\"#f0f921\"]]}],\"heatmapgl\":[{\"type\":\"heatmapgl\",\"colorbar\":{\"outlinewidth\":0,\"ticks\":\"\"},\"colorscale\":[[0.0,\"#0d0887\"],[0.1111111111111111,\"#46039f\"],[0.2222222222222222,\"#7201a8\"],[0.3333333333333333,\"#9c179e\"],[0.4444444444444444,\"#bd3786\"],[0.5555555555555556,\"#d8576b\"],[0.6666666666666666,\"#ed7953\"],[0.7777777777777778,\"#fb9f3a\"],[0.8888888888888888,\"#fdca26\"],[1.0,\"#f0f921\"]]}],\"contourcarpet\":[{\"type\":\"contourcarpet\",\"colorbar\":{\"outlinewidth\":0,\"ticks\":\"\"}}],\"contour\":[{\"type\":\"contour\",\"colorbar\":{\"outlinewidth\":0,\"ticks\":\"\"},\"colorscale\":[[0.0,\"#0d0887\"],[0.1111111111111111,\"#46039f\"],[0.2222222222222222,\"#7201a8\"],[0.3333333333333333,\"#9c179e\"],[0.4444444444444444,\"#bd3786\"],[0.5555555555555556,\"#d8576b\"],[0.6666666666666666,\"#ed7953\"],[0.7777777777777778,\"#fb9f3a\"],[0.8888888888888888,\"#fdca26\"],[1.0,\"#f0f921\"]]}],\"surface\":[{\"type\":\"surface\",\"colorbar\":{\"outlinewidth\":0,\"ticks\":\"\"},\"colorscale\":[[0.0,\"#0d0887\"],[0.1111111111111111,\"#46039f\"],[0.2222222222222222,\"#7201a8\"],[0.3333333333333333,\"#9c179e\"],[0.4444444444444444,\"#bd3786\"],[0.5555555555555556,\"#d8576b\"],[0.6666666666666666,\"#ed7953\"],[0.7777777777777778,\"#fb9f3a\"],[0.8888888888888888,\"#fdca26\"],[1.0,\"#f0f921\"]]}],\"mesh3d\":[{\"type\":\"mesh3d\",\"colorbar\":{\"outlinewidth\":0,\"ticks\":\"\"}}],\"scatter\":[{\"fillpattern\":{\"fillmode\":\"overlay\",\"size\":10,\"solidity\":0.2},\"type\":\"scatter\"}],\"parcoords\":[{\"type\":\"parcoords\",\"line\":{\"colorbar\":{\"outlinewidth\":0,\"ticks\":\"\"}}}],\"scatterpolargl\":[{\"type\":\"scatterpolargl\",\"marker\":{\"colorbar\":{\"outlinewidth\":0,\"ticks\":\"\"}}}],\"bar\":[{\"error_x\":{\"color\":\"#2a3f5f\"},\"error_y\":{\"color\":\"#2a3f5f\"},\"marker\":{\"line\":{\"color\":\"#E5ECF6\",\"width\":0.5},\"pattern\":{\"fillmode\":\"overlay\",\"size\":10,\"solidity\":0.2}},\"type\":\"bar\"}],\"scattergeo\":[{\"type\":\"scattergeo\",\"marker\":{\"colorbar\":{\"outlinewidth\":0,\"ticks\":\"\"}}}],\"scatterpolar\":[{\"type\":\"scatterpolar\",\"marker\":{\"colorbar\":{\"outlinewidth\":0,\"ticks\":\"\"}}}],\"histogram\":[{\"marker\":{\"pattern\":{\"fillmode\":\"overlay\",\"size\":10,\"solidity\":0.2}},\"type\":\"histogram\"}],\"scattergl\":[{\"type\":\"scattergl\",\"marker\":{\"colorbar\":{\"outlinewidth\":0,\"ticks\":\"\"}}}],\"scatter3d\":[{\"type\":\"scatter3d\",\"line\":{\"colorbar\":{\"outlinewidth\":0,\"ticks\":\"\"}},\"marker\":{\"colorbar\":{\"outlinewidth\":0,\"ticks\":\"\"}}}],\"scattermapbox\":[{\"type\":\"scattermapbox\",\"marker\":{\"colorbar\":{\"outlinewidth\":0,\"ticks\":\"\"}}}],\"scatterternary\":[{\"type\":\"scatterternary\",\"marker\":{\"colorbar\":{\"outlinewidth\":0,\"ticks\":\"\"}}}],\"scattercarpet\":[{\"type\":\"scattercarpet\",\"marker\":{\"colorbar\":{\"outlinewidth\":0,\"ticks\":\"\"}}}],\"carpet\":[{\"aaxis\":{\"endlinecolor\":\"#2a3f5f\",\"gridcolor\":\"white\",\"linecolor\":\"white\",\"minorgridcolor\":\"white\",\"startlinecolor\":\"#2a3f5f\"},\"baxis\":{\"endlinecolor\":\"#2a3f5f\",\"gridcolor\":\"white\",\"linecolor\":\"white\",\"minorgridcolor\":\"white\",\"startlinecolor\":\"#2a3f5f\"},\"type\":\"carpet\"}],\"table\":[{\"cells\":{\"fill\":{\"color\":\"#EBF0F8\"},\"line\":{\"color\":\"white\"}},\"header\":{\"fill\":{\"color\":\"#C8D4E3\"},\"line\":{\"color\":\"white\"}},\"type\":\"table\"}],\"barpolar\":[{\"marker\":{\"line\":{\"color\":\"#E5ECF6\",\"width\":0.5},\"pattern\":{\"fillmode\":\"overlay\",\"size\":10,\"solidity\":0.2}},\"type\":\"barpolar\"}],\"pie\":[{\"automargin\":true,\"type\":\"pie\"}]},\"layout\":{\"autotypenumbers\":\"strict\",\"colorway\":[\"#636efa\",\"#EF553B\",\"#00cc96\",\"#ab63fa\",\"#FFA15A\",\"#19d3f3\",\"#FF6692\",\"#B6E880\",\"#FF97FF\",\"#FECB52\"],\"font\":{\"color\":\"#2a3f5f\"},\"hovermode\":\"closest\",\"hoverlabel\":{\"align\":\"left\"},\"paper_bgcolor\":\"white\",\"plot_bgcolor\":\"#E5ECF6\",\"polar\":{\"bgcolor\":\"#E5ECF6\",\"angularaxis\":{\"gridcolor\":\"white\",\"linecolor\":\"white\",\"ticks\":\"\"},\"radialaxis\":{\"gridcolor\":\"white\",\"linecolor\":\"white\",\"ticks\":\"\"}},\"ternary\":{\"bgcolor\":\"#E5ECF6\",\"aaxis\":{\"gridcolor\":\"white\",\"linecolor\":\"white\",\"ticks\":\"\"},\"baxis\":{\"gridcolor\":\"white\",\"linecolor\":\"white\",\"ticks\":\"\"},\"caxis\":{\"gridcolor\":\"white\",\"linecolor\":\"white\",\"ticks\":\"\"}},\"coloraxis\":{\"colorbar\":{\"outlinewidth\":0,\"ticks\":\"\"}},\"colorscale\":{\"sequential\":[[0.0,\"#0d0887\"],[0.1111111111111111,\"#46039f\"],[0.2222222222222222,\"#7201a8\"],[0.3333333333333333,\"#9c179e\"],[0.4444444444444444,\"#bd3786\"],[0.5555555555555556,\"#d8576b\"],[0.6666666666666666,\"#ed7953\"],[0.7777777777777778,\"#fb9f3a\"],[0.8888888888888888,\"#fdca26\"],[1.0,\"#f0f921\"]],\"sequentialminus\":[[0.0,\"#0d0887\"],[0.1111111111111111,\"#46039f\"],[0.2222222222222222,\"#7201a8\"],[0.3333333333333333,\"#9c179e\"],[0.4444444444444444,\"#bd3786\"],[0.5555555555555556,\"#d8576b\"],[0.6666666666666666,\"#ed7953\"],[0.7777777777777778,\"#fb9f3a\"],[0.8888888888888888,\"#fdca26\"],[1.0,\"#f0f921\"]],\"diverging\":[[0,\"#8e0152\"],[0.1,\"#c51b7d\"],[0.2,\"#de77ae\"],[0.3,\"#f1b6da\"],[0.4,\"#fde0ef\"],[0.5,\"#f7f7f7\"],[0.6,\"#e6f5d0\"],[0.7,\"#b8e186\"],[0.8,\"#7fbc41\"],[0.9,\"#4d9221\"],[1,\"#276419\"]]},\"xaxis\":{\"gridcolor\":\"white\",\"linecolor\":\"white\",\"ticks\":\"\",\"title\":{\"standoff\":15},\"zerolinecolor\":\"white\",\"automargin\":true,\"zerolinewidth\":2},\"yaxis\":{\"gridcolor\":\"white\",\"linecolor\":\"white\",\"ticks\":\"\",\"title\":{\"standoff\":15},\"zerolinecolor\":\"white\",\"automargin\":true,\"zerolinewidth\":2},\"scene\":{\"xaxis\":{\"backgroundcolor\":\"#E5ECF6\",\"gridcolor\":\"white\",\"linecolor\":\"white\",\"showbackground\":true,\"ticks\":\"\",\"zerolinecolor\":\"white\",\"gridwidth\":2},\"yaxis\":{\"backgroundcolor\":\"#E5ECF6\",\"gridcolor\":\"white\",\"linecolor\":\"white\",\"showbackground\":true,\"ticks\":\"\",\"zerolinecolor\":\"white\",\"gridwidth\":2},\"zaxis\":{\"backgroundcolor\":\"#E5ECF6\",\"gridcolor\":\"white\",\"linecolor\":\"white\",\"showbackground\":true,\"ticks\":\"\",\"zerolinecolor\":\"white\",\"gridwidth\":2}},\"shapedefaults\":{\"line\":{\"color\":\"#2a3f5f\"}},\"annotationdefaults\":{\"arrowcolor\":\"#2a3f5f\",\"arrowhead\":0,\"arrowwidth\":1},\"geo\":{\"bgcolor\":\"white\",\"landcolor\":\"#E5ECF6\",\"subunitcolor\":\"white\",\"showland\":true,\"showlakes\":true,\"lakecolor\":\"white\"},\"title\":{\"x\":0.05},\"mapbox\":{\"style\":\"light\"}}},\"title\":{\"text\":\"IGPU spec\"},\"xaxis\":{\"title\":{\"text\":\"IGPU Clock speed (GHz)\"}},\"yaxis\":{\"title\":{\"text\":\"IGPU EUs\"}}},                        {\"responsive\": true}                    ).then(function(){\n",
       "                            \n",
       "var gd = document.getElementById('913ac71f-cd7f-48f5-91a8-2b092a049130');\n",
       "var x = new MutationObserver(function (mutations, observer) {{\n",
       "        var display = window.getComputedStyle(gd).display;\n",
       "        if (!display || display === 'none') {{\n",
       "            console.log([gd, 'removed!']);\n",
       "            Plotly.purge(gd);\n",
       "            observer.disconnect();\n",
       "        }}\n",
       "}});\n",
       "\n",
       "// Listen for the removal of the full notebook cells\n",
       "var notebookContainer = gd.closest('#notebook-container');\n",
       "if (notebookContainer) {{\n",
       "    x.observe(notebookContainer, {childList: true});\n",
       "}}\n",
       "\n",
       "// Listen for the clearing of the current output cell\n",
       "var outputEl = gd.closest('.output');\n",
       "if (outputEl) {{\n",
       "    x.observe(outputEl, {childList: true});\n",
       "}}\n",
       "\n",
       "                        })                };                });            </script>        </div>"
      ]
     },
     "metadata": {},
     "output_type": "display_data"
    }
   ],
   "source": [
    "import pandas as pd\n",
    "import plotly.graph_objs as go\n",
    "\n",
    "# 讀取CSV文件並轉換為DataFrame\n",
    "df = pd.read_csv('11th gen intel.csv', index_col=0)\n",
    "\n",
    "# 建立 X 軸、Y 軸資料\n",
    "x = df['IGPU_Clock']\n",
    "y = df['IGPU_EUs']\n",
    "\n",
    "# 建立點陣圖\n",
    "fig = go.Figure(go.Scatter(x=x, y=y, mode='markers'))\n",
    "\n",
    "# 建立 scatter trace，指定 text 參數\n",
    "fig.add_trace(go.Scatter(text=df['Model'], mod='markers', x=x, y=y) )\n",
    "\n",
    "# 更新圖表樣式和佈局\n",
    "fig.update_layout(title='IGPU spec', xaxis_title='IGPU Clock speed (GHz)', yaxis_title='IGPU EUs')\n",
    "\n",
    "# 顯示圖表\n",
    "fig.show()"
   ]
  },
  {
   "cell_type": "code",
   "execution_count": null,
   "id": "e4d11081",
   "metadata": {},
   "outputs": [],
   "source": []
  }
 ],
 "metadata": {
  "kernelspec": {
   "display_name": "Python 3 (ipykernel)",
   "language": "python",
   "name": "python3"
  },
  "language_info": {
   "codemirror_mode": {
    "name": "ipython",
    "version": 3
   },
   "file_extension": ".py",
   "mimetype": "text/x-python",
   "name": "python",
   "nbconvert_exporter": "python",
   "pygments_lexer": "ipython3",
   "version": "3.9.13"
  }
 },
 "nbformat": 4,
 "nbformat_minor": 5
}
