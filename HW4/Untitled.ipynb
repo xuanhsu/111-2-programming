{
 "cells": [
  {
   "cell_type": "code",
   "execution_count": 7,
   "id": "4f77d0d9",
   "metadata": {},
   "outputs": [
    {
     "name": "stdout",
     "output_type": "stream",
     "text": [
      "請求成功：200\n"
     ]
    }
   ],
   "source": [
    "import pandas as pd\n",
    "import numpy as np\n",
    "from collections import Counter\n",
    "\n",
    "import requests \n",
    "import json\n",
    "import csv\n",
    "import time\n",
    "from time import sleep\n",
    "import pandas as pd\n",
    "import re\n",
    "from bs4 import BeautifulSoup\n",
    "\n",
    "# 設定 User-Agent\n",
    "\n",
    "headers = { \n",
    "    'user-agent': 'Mozilla/5.0 (Windows NT 10.0; Win64; x64) AppleWebKit/537.36 (KHTML, like Gecko) Chrome/89.0.4389.82 Safari/537.36'\n",
    "}\n",
    "# 發送 GET 請求取得文章內容\n",
    "url = \"https://www.notebookcheck.net/?&hide_date=1&tagArray[]=16&typeArray[]=1&id=48\"\n",
    "response = requests.get(url, headers=headers)\n",
    "soup = BeautifulSoup(response.text, \"html.parser\")\n",
    "\n",
    "if response.status_code == 200:\n",
    "    print(f'請求成功：{response.status_code}')\n",
    "else:\n",
    "    print(f'請求失敗：{response.status_code}')\n",
    "    \n"
   ]
  },
  {
   "cell_type": "code",
   "execution_count": 9,
   "id": "9a5e76ea",
   "metadata": {},
   "outputs": [],
   "source": [
    "# 爬取筆電評測的文章連結\n",
    "url = \"https://www.notebookcheck.net/?&hide_date=1&tagArray[]=16&typeArray[]=1&id=48\"\n",
    "r = requests.get(url, headers=headers)\n",
    "soup = BeautifulSoup(r.text, \"html.parser\")\n",
    "articles = soup.find_all(\"div\", class_=\"r-ent\")\n",
    "review_links = []\n",
    "for article in articles:\n",
    "    try:\n",
    "        link = \"https://www.notebookcheck.net/\" + article.find(\"a\")[\"href\"]\n",
    "        review_links.append(link)\n",
    "    except:\n",
    "        continue\n",
    "with open(\"Reviews.csv\", mode=\"w\", encoding=\"utf-8\", newline=\"\") as f:\n",
    "    writer = csv.writer(f)\n",
    "    for link in review_links:\n",
    "        writer.writerow([link])"
   ]
  },
  {
   "cell_type": "code",
   "execution_count": null,
   "id": "72381526",
   "metadata": {},
   "outputs": [],
   "source": []
  }
 ],
 "metadata": {
  "kernelspec": {
   "display_name": "Python 3 (ipykernel)",
   "language": "python",
   "name": "python3"
  },
  "language_info": {
   "codemirror_mode": {
    "name": "ipython",
    "version": 3
   },
   "file_extension": ".py",
   "mimetype": "text/x-python",
   "name": "python",
   "nbconvert_exporter": "python",
   "pygments_lexer": "ipython3",
   "version": "3.9.13"
  }
 },
 "nbformat": 4,
 "nbformat_minor": 5
}
